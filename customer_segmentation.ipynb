{
  "nbformat": 4,
  "nbformat_minor": 0,
  "metadata": {
    "colab": {
      "provenance": [],
      "mount_file_id": "1pzI1RAgrrMFzT8cwAJaJip82v2VhCzBn",
      "authorship_tag": "ABX9TyMZilt6q3hW/HcFTBWgAlfX",
      "include_colab_link": true
    },
    "kernelspec": {
      "name": "python3",
      "display_name": "Python 3"
    },
    "language_info": {
      "name": "python"
    }
  },
  "cells": [
    {
      "cell_type": "markdown",
      "metadata": {
        "id": "view-in-github",
        "colab_type": "text"
      },
      "source": [
        "<a href=\"https://colab.research.google.com/github/uca-spider/customer_segmentation/blob/main/customer_segmentation.ipynb\" target=\"_parent\"><img src=\"https://colab.research.google.com/assets/colab-badge.svg\" alt=\"Open In Colab\"/></a>"
      ]
    },
    {
      "cell_type": "code",
      "execution_count": null,
      "metadata": {
        "id": "FddOyBdwpXCy"
      },
      "outputs": [],
      "source": [
        "import pandas as pd\n",
        "import numpy as np\n",
        "import matplotlib.pyplot as plt\n",
        "import seaborn as sns\n",
        "from datetime import datetime\n",
        "\n",
        "from sklearn.preprocessing import StandardScaler\n",
        "from sklearn.cluster import KMeans\n",
        "from sklearn.metrics import silhouette_score\n",
        "\n",
        "import warnings\n",
        "warnings.filterwarnings('ignore')"
      ]
    },
    {
      "cell_type": "code",
      "source": [
        "# Load dataset\n",
        "df = pd.read_excel('/content/drive/MyDrive/colab/Online Retail.xlsx')\n",
        "df.head()"
      ],
      "metadata": {
        "colab": {
          "base_uri": "https://localhost:8080/",
          "height": 206
        },
        "id": "Jwc9lPTCpide",
        "outputId": "27b749af-d333-4175-d2cb-a5f995b0ca6b"
      },
      "execution_count": null,
      "outputs": [
        {
          "output_type": "execute_result",
          "data": {
            "text/plain": [
              "  InvoiceNo StockCode                          Description  Quantity  \\\n",
              "0    536365    85123A   WHITE HANGING HEART T-LIGHT HOLDER         6   \n",
              "1    536365     71053                  WHITE METAL LANTERN         6   \n",
              "2    536365    84406B       CREAM CUPID HEARTS COAT HANGER         8   \n",
              "3    536365    84029G  KNITTED UNION FLAG HOT WATER BOTTLE         6   \n",
              "4    536365    84029E       RED WOOLLY HOTTIE WHITE HEART.         6   \n",
              "\n",
              "          InvoiceDate  UnitPrice  CustomerID         Country  \n",
              "0 2010-12-01 08:26:00       2.55     17850.0  United Kingdom  \n",
              "1 2010-12-01 08:26:00       3.39     17850.0  United Kingdom  \n",
              "2 2010-12-01 08:26:00       2.75     17850.0  United Kingdom  \n",
              "3 2010-12-01 08:26:00       3.39     17850.0  United Kingdom  \n",
              "4 2010-12-01 08:26:00       3.39     17850.0  United Kingdom  "
            ],
            "text/html": [
              "\n",
              "  <div id=\"df-b7a2c7af-1110-4230-888a-332477d0d0cd\" class=\"colab-df-container\">\n",
              "    <div>\n",
              "<style scoped>\n",
              "    .dataframe tbody tr th:only-of-type {\n",
              "        vertical-align: middle;\n",
              "    }\n",
              "\n",
              "    .dataframe tbody tr th {\n",
              "        vertical-align: top;\n",
              "    }\n",
              "\n",
              "    .dataframe thead th {\n",
              "        text-align: right;\n",
              "    }\n",
              "</style>\n",
              "<table border=\"1\" class=\"dataframe\">\n",
              "  <thead>\n",
              "    <tr style=\"text-align: right;\">\n",
              "      <th></th>\n",
              "      <th>InvoiceNo</th>\n",
              "      <th>StockCode</th>\n",
              "      <th>Description</th>\n",
              "      <th>Quantity</th>\n",
              "      <th>InvoiceDate</th>\n",
              "      <th>UnitPrice</th>\n",
              "      <th>CustomerID</th>\n",
              "      <th>Country</th>\n",
              "    </tr>\n",
              "  </thead>\n",
              "  <tbody>\n",
              "    <tr>\n",
              "      <th>0</th>\n",
              "      <td>536365</td>\n",
              "      <td>85123A</td>\n",
              "      <td>WHITE HANGING HEART T-LIGHT HOLDER</td>\n",
              "      <td>6</td>\n",
              "      <td>2010-12-01 08:26:00</td>\n",
              "      <td>2.55</td>\n",
              "      <td>17850.0</td>\n",
              "      <td>United Kingdom</td>\n",
              "    </tr>\n",
              "    <tr>\n",
              "      <th>1</th>\n",
              "      <td>536365</td>\n",
              "      <td>71053</td>\n",
              "      <td>WHITE METAL LANTERN</td>\n",
              "      <td>6</td>\n",
              "      <td>2010-12-01 08:26:00</td>\n",
              "      <td>3.39</td>\n",
              "      <td>17850.0</td>\n",
              "      <td>United Kingdom</td>\n",
              "    </tr>\n",
              "    <tr>\n",
              "      <th>2</th>\n",
              "      <td>536365</td>\n",
              "      <td>84406B</td>\n",
              "      <td>CREAM CUPID HEARTS COAT HANGER</td>\n",
              "      <td>8</td>\n",
              "      <td>2010-12-01 08:26:00</td>\n",
              "      <td>2.75</td>\n",
              "      <td>17850.0</td>\n",
              "      <td>United Kingdom</td>\n",
              "    </tr>\n",
              "    <tr>\n",
              "      <th>3</th>\n",
              "      <td>536365</td>\n",
              "      <td>84029G</td>\n",
              "      <td>KNITTED UNION FLAG HOT WATER BOTTLE</td>\n",
              "      <td>6</td>\n",
              "      <td>2010-12-01 08:26:00</td>\n",
              "      <td>3.39</td>\n",
              "      <td>17850.0</td>\n",
              "      <td>United Kingdom</td>\n",
              "    </tr>\n",
              "    <tr>\n",
              "      <th>4</th>\n",
              "      <td>536365</td>\n",
              "      <td>84029E</td>\n",
              "      <td>RED WOOLLY HOTTIE WHITE HEART.</td>\n",
              "      <td>6</td>\n",
              "      <td>2010-12-01 08:26:00</td>\n",
              "      <td>3.39</td>\n",
              "      <td>17850.0</td>\n",
              "      <td>United Kingdom</td>\n",
              "    </tr>\n",
              "  </tbody>\n",
              "</table>\n",
              "</div>\n",
              "    <div class=\"colab-df-buttons\">\n",
              "\n",
              "  <div class=\"colab-df-container\">\n",
              "    <button class=\"colab-df-convert\" onclick=\"convertToInteractive('df-b7a2c7af-1110-4230-888a-332477d0d0cd')\"\n",
              "            title=\"Convert this dataframe to an interactive table.\"\n",
              "            style=\"display:none;\">\n",
              "\n",
              "  <svg xmlns=\"http://www.w3.org/2000/svg\" height=\"24px\" viewBox=\"0 -960 960 960\">\n",
              "    <path d=\"M120-120v-720h720v720H120Zm60-500h600v-160H180v160Zm220 220h160v-160H400v160Zm0 220h160v-160H400v160ZM180-400h160v-160H180v160Zm440 0h160v-160H620v160ZM180-180h160v-160H180v160Zm440 0h160v-160H620v160Z\"/>\n",
              "  </svg>\n",
              "    </button>\n",
              "\n",
              "  <style>\n",
              "    .colab-df-container {\n",
              "      display:flex;\n",
              "      gap: 12px;\n",
              "    }\n",
              "\n",
              "    .colab-df-convert {\n",
              "      background-color: #E8F0FE;\n",
              "      border: none;\n",
              "      border-radius: 50%;\n",
              "      cursor: pointer;\n",
              "      display: none;\n",
              "      fill: #1967D2;\n",
              "      height: 32px;\n",
              "      padding: 0 0 0 0;\n",
              "      width: 32px;\n",
              "    }\n",
              "\n",
              "    .colab-df-convert:hover {\n",
              "      background-color: #E2EBFA;\n",
              "      box-shadow: 0px 1px 2px rgba(60, 64, 67, 0.3), 0px 1px 3px 1px rgba(60, 64, 67, 0.15);\n",
              "      fill: #174EA6;\n",
              "    }\n",
              "\n",
              "    .colab-df-buttons div {\n",
              "      margin-bottom: 4px;\n",
              "    }\n",
              "\n",
              "    [theme=dark] .colab-df-convert {\n",
              "      background-color: #3B4455;\n",
              "      fill: #D2E3FC;\n",
              "    }\n",
              "\n",
              "    [theme=dark] .colab-df-convert:hover {\n",
              "      background-color: #434B5C;\n",
              "      box-shadow: 0px 1px 3px 1px rgba(0, 0, 0, 0.15);\n",
              "      filter: drop-shadow(0px 1px 2px rgba(0, 0, 0, 0.3));\n",
              "      fill: #FFFFFF;\n",
              "    }\n",
              "  </style>\n",
              "\n",
              "    <script>\n",
              "      const buttonEl =\n",
              "        document.querySelector('#df-b7a2c7af-1110-4230-888a-332477d0d0cd button.colab-df-convert');\n",
              "      buttonEl.style.display =\n",
              "        google.colab.kernel.accessAllowed ? 'block' : 'none';\n",
              "\n",
              "      async function convertToInteractive(key) {\n",
              "        const element = document.querySelector('#df-b7a2c7af-1110-4230-888a-332477d0d0cd');\n",
              "        const dataTable =\n",
              "          await google.colab.kernel.invokeFunction('convertToInteractive',\n",
              "                                                    [key], {});\n",
              "        if (!dataTable) return;\n",
              "\n",
              "        const docLinkHtml = 'Like what you see? Visit the ' +\n",
              "          '<a target=\"_blank\" href=https://colab.research.google.com/notebooks/data_table.ipynb>data table notebook</a>'\n",
              "          + ' to learn more about interactive tables.';\n",
              "        element.innerHTML = '';\n",
              "        dataTable['output_type'] = 'display_data';\n",
              "        await google.colab.output.renderOutput(dataTable, element);\n",
              "        const docLink = document.createElement('div');\n",
              "        docLink.innerHTML = docLinkHtml;\n",
              "        element.appendChild(docLink);\n",
              "      }\n",
              "    </script>\n",
              "  </div>\n",
              "\n",
              "\n",
              "    <div id=\"df-ccfbecfc-2367-4ac1-b6ca-24836c202cc5\">\n",
              "      <button class=\"colab-df-quickchart\" onclick=\"quickchart('df-ccfbecfc-2367-4ac1-b6ca-24836c202cc5')\"\n",
              "                title=\"Suggest charts\"\n",
              "                style=\"display:none;\">\n",
              "\n",
              "<svg xmlns=\"http://www.w3.org/2000/svg\" height=\"24px\"viewBox=\"0 0 24 24\"\n",
              "     width=\"24px\">\n",
              "    <g>\n",
              "        <path d=\"M19 3H5c-1.1 0-2 .9-2 2v14c0 1.1.9 2 2 2h14c1.1 0 2-.9 2-2V5c0-1.1-.9-2-2-2zM9 17H7v-7h2v7zm4 0h-2V7h2v10zm4 0h-2v-4h2v4z\"/>\n",
              "    </g>\n",
              "</svg>\n",
              "      </button>\n",
              "\n",
              "<style>\n",
              "  .colab-df-quickchart {\n",
              "      --bg-color: #E8F0FE;\n",
              "      --fill-color: #1967D2;\n",
              "      --hover-bg-color: #E2EBFA;\n",
              "      --hover-fill-color: #174EA6;\n",
              "      --disabled-fill-color: #AAA;\n",
              "      --disabled-bg-color: #DDD;\n",
              "  }\n",
              "\n",
              "  [theme=dark] .colab-df-quickchart {\n",
              "      --bg-color: #3B4455;\n",
              "      --fill-color: #D2E3FC;\n",
              "      --hover-bg-color: #434B5C;\n",
              "      --hover-fill-color: #FFFFFF;\n",
              "      --disabled-bg-color: #3B4455;\n",
              "      --disabled-fill-color: #666;\n",
              "  }\n",
              "\n",
              "  .colab-df-quickchart {\n",
              "    background-color: var(--bg-color);\n",
              "    border: none;\n",
              "    border-radius: 50%;\n",
              "    cursor: pointer;\n",
              "    display: none;\n",
              "    fill: var(--fill-color);\n",
              "    height: 32px;\n",
              "    padding: 0;\n",
              "    width: 32px;\n",
              "  }\n",
              "\n",
              "  .colab-df-quickchart:hover {\n",
              "    background-color: var(--hover-bg-color);\n",
              "    box-shadow: 0 1px 2px rgba(60, 64, 67, 0.3), 0 1px 3px 1px rgba(60, 64, 67, 0.15);\n",
              "    fill: var(--button-hover-fill-color);\n",
              "  }\n",
              "\n",
              "  .colab-df-quickchart-complete:disabled,\n",
              "  .colab-df-quickchart-complete:disabled:hover {\n",
              "    background-color: var(--disabled-bg-color);\n",
              "    fill: var(--disabled-fill-color);\n",
              "    box-shadow: none;\n",
              "  }\n",
              "\n",
              "  .colab-df-spinner {\n",
              "    border: 2px solid var(--fill-color);\n",
              "    border-color: transparent;\n",
              "    border-bottom-color: var(--fill-color);\n",
              "    animation:\n",
              "      spin 1s steps(1) infinite;\n",
              "  }\n",
              "\n",
              "  @keyframes spin {\n",
              "    0% {\n",
              "      border-color: transparent;\n",
              "      border-bottom-color: var(--fill-color);\n",
              "      border-left-color: var(--fill-color);\n",
              "    }\n",
              "    20% {\n",
              "      border-color: transparent;\n",
              "      border-left-color: var(--fill-color);\n",
              "      border-top-color: var(--fill-color);\n",
              "    }\n",
              "    30% {\n",
              "      border-color: transparent;\n",
              "      border-left-color: var(--fill-color);\n",
              "      border-top-color: var(--fill-color);\n",
              "      border-right-color: var(--fill-color);\n",
              "    }\n",
              "    40% {\n",
              "      border-color: transparent;\n",
              "      border-right-color: var(--fill-color);\n",
              "      border-top-color: var(--fill-color);\n",
              "    }\n",
              "    60% {\n",
              "      border-color: transparent;\n",
              "      border-right-color: var(--fill-color);\n",
              "    }\n",
              "    80% {\n",
              "      border-color: transparent;\n",
              "      border-right-color: var(--fill-color);\n",
              "      border-bottom-color: var(--fill-color);\n",
              "    }\n",
              "    90% {\n",
              "      border-color: transparent;\n",
              "      border-bottom-color: var(--fill-color);\n",
              "    }\n",
              "  }\n",
              "</style>\n",
              "\n",
              "      <script>\n",
              "        async function quickchart(key) {\n",
              "          const quickchartButtonEl =\n",
              "            document.querySelector('#' + key + ' button');\n",
              "          quickchartButtonEl.disabled = true;  // To prevent multiple clicks.\n",
              "          quickchartButtonEl.classList.add('colab-df-spinner');\n",
              "          try {\n",
              "            const charts = await google.colab.kernel.invokeFunction(\n",
              "                'suggestCharts', [key], {});\n",
              "          } catch (error) {\n",
              "            console.error('Error during call to suggestCharts:', error);\n",
              "          }\n",
              "          quickchartButtonEl.classList.remove('colab-df-spinner');\n",
              "          quickchartButtonEl.classList.add('colab-df-quickchart-complete');\n",
              "        }\n",
              "        (() => {\n",
              "          let quickchartButtonEl =\n",
              "            document.querySelector('#df-ccfbecfc-2367-4ac1-b6ca-24836c202cc5 button');\n",
              "          quickchartButtonEl.style.display =\n",
              "            google.colab.kernel.accessAllowed ? 'block' : 'none';\n",
              "        })();\n",
              "      </script>\n",
              "    </div>\n",
              "\n",
              "    </div>\n",
              "  </div>\n"
            ],
            "application/vnd.google.colaboratory.intrinsic+json": {
              "type": "dataframe",
              "variable_name": "df"
            }
          },
          "metadata": {},
          "execution_count": 56
        }
      ]
    },
    {
      "cell_type": "code",
      "source": [
        "print(\"Jumlah baris awal dataset:\", len(df))\n",
        "print(\"Jumlah CustomerID unik:\", df['CustomerID'].nunique())\n",
        "print(\"Kolom dataset:\", df.columns)\n",
        "df.head()"
      ],
      "metadata": {
        "colab": {
          "base_uri": "https://localhost:8080/",
          "height": 293
        },
        "id": "o3vh8p9zthER",
        "outputId": "89023867-db67-42f2-a610-d8dd8082b8fa"
      },
      "execution_count": null,
      "outputs": [
        {
          "output_type": "stream",
          "name": "stdout",
          "text": [
            "Jumlah baris awal dataset: 541909\n",
            "Jumlah CustomerID unik: 4372\n",
            "Kolom dataset: Index(['InvoiceNo', 'StockCode', 'Description', 'Quantity', 'InvoiceDate',\n",
            "       'UnitPrice', 'CustomerID', 'Country'],\n",
            "      dtype='object')\n"
          ]
        },
        {
          "output_type": "execute_result",
          "data": {
            "text/plain": [
              "  InvoiceNo StockCode                          Description  Quantity  \\\n",
              "0    536365    85123A   WHITE HANGING HEART T-LIGHT HOLDER         6   \n",
              "1    536365     71053                  WHITE METAL LANTERN         6   \n",
              "2    536365    84406B       CREAM CUPID HEARTS COAT HANGER         8   \n",
              "3    536365    84029G  KNITTED UNION FLAG HOT WATER BOTTLE         6   \n",
              "4    536365    84029E       RED WOOLLY HOTTIE WHITE HEART.         6   \n",
              "\n",
              "          InvoiceDate  UnitPrice  CustomerID         Country  \n",
              "0 2010-12-01 08:26:00       2.55     17850.0  United Kingdom  \n",
              "1 2010-12-01 08:26:00       3.39     17850.0  United Kingdom  \n",
              "2 2010-12-01 08:26:00       2.75     17850.0  United Kingdom  \n",
              "3 2010-12-01 08:26:00       3.39     17850.0  United Kingdom  \n",
              "4 2010-12-01 08:26:00       3.39     17850.0  United Kingdom  "
            ],
            "text/html": [
              "\n",
              "  <div id=\"df-aa426512-a7be-4463-8fe0-2eeaac4c25fb\" class=\"colab-df-container\">\n",
              "    <div>\n",
              "<style scoped>\n",
              "    .dataframe tbody tr th:only-of-type {\n",
              "        vertical-align: middle;\n",
              "    }\n",
              "\n",
              "    .dataframe tbody tr th {\n",
              "        vertical-align: top;\n",
              "    }\n",
              "\n",
              "    .dataframe thead th {\n",
              "        text-align: right;\n",
              "    }\n",
              "</style>\n",
              "<table border=\"1\" class=\"dataframe\">\n",
              "  <thead>\n",
              "    <tr style=\"text-align: right;\">\n",
              "      <th></th>\n",
              "      <th>InvoiceNo</th>\n",
              "      <th>StockCode</th>\n",
              "      <th>Description</th>\n",
              "      <th>Quantity</th>\n",
              "      <th>InvoiceDate</th>\n",
              "      <th>UnitPrice</th>\n",
              "      <th>CustomerID</th>\n",
              "      <th>Country</th>\n",
              "    </tr>\n",
              "  </thead>\n",
              "  <tbody>\n",
              "    <tr>\n",
              "      <th>0</th>\n",
              "      <td>536365</td>\n",
              "      <td>85123A</td>\n",
              "      <td>WHITE HANGING HEART T-LIGHT HOLDER</td>\n",
              "      <td>6</td>\n",
              "      <td>2010-12-01 08:26:00</td>\n",
              "      <td>2.55</td>\n",
              "      <td>17850.0</td>\n",
              "      <td>United Kingdom</td>\n",
              "    </tr>\n",
              "    <tr>\n",
              "      <th>1</th>\n",
              "      <td>536365</td>\n",
              "      <td>71053</td>\n",
              "      <td>WHITE METAL LANTERN</td>\n",
              "      <td>6</td>\n",
              "      <td>2010-12-01 08:26:00</td>\n",
              "      <td>3.39</td>\n",
              "      <td>17850.0</td>\n",
              "      <td>United Kingdom</td>\n",
              "    </tr>\n",
              "    <tr>\n",
              "      <th>2</th>\n",
              "      <td>536365</td>\n",
              "      <td>84406B</td>\n",
              "      <td>CREAM CUPID HEARTS COAT HANGER</td>\n",
              "      <td>8</td>\n",
              "      <td>2010-12-01 08:26:00</td>\n",
              "      <td>2.75</td>\n",
              "      <td>17850.0</td>\n",
              "      <td>United Kingdom</td>\n",
              "    </tr>\n",
              "    <tr>\n",
              "      <th>3</th>\n",
              "      <td>536365</td>\n",
              "      <td>84029G</td>\n",
              "      <td>KNITTED UNION FLAG HOT WATER BOTTLE</td>\n",
              "      <td>6</td>\n",
              "      <td>2010-12-01 08:26:00</td>\n",
              "      <td>3.39</td>\n",
              "      <td>17850.0</td>\n",
              "      <td>United Kingdom</td>\n",
              "    </tr>\n",
              "    <tr>\n",
              "      <th>4</th>\n",
              "      <td>536365</td>\n",
              "      <td>84029E</td>\n",
              "      <td>RED WOOLLY HOTTIE WHITE HEART.</td>\n",
              "      <td>6</td>\n",
              "      <td>2010-12-01 08:26:00</td>\n",
              "      <td>3.39</td>\n",
              "      <td>17850.0</td>\n",
              "      <td>United Kingdom</td>\n",
              "    </tr>\n",
              "  </tbody>\n",
              "</table>\n",
              "</div>\n",
              "    <div class=\"colab-df-buttons\">\n",
              "\n",
              "  <div class=\"colab-df-container\">\n",
              "    <button class=\"colab-df-convert\" onclick=\"convertToInteractive('df-aa426512-a7be-4463-8fe0-2eeaac4c25fb')\"\n",
              "            title=\"Convert this dataframe to an interactive table.\"\n",
              "            style=\"display:none;\">\n",
              "\n",
              "  <svg xmlns=\"http://www.w3.org/2000/svg\" height=\"24px\" viewBox=\"0 -960 960 960\">\n",
              "    <path d=\"M120-120v-720h720v720H120Zm60-500h600v-160H180v160Zm220 220h160v-160H400v160Zm0 220h160v-160H400v160ZM180-400h160v-160H180v160Zm440 0h160v-160H620v160ZM180-180h160v-160H180v160Zm440 0h160v-160H620v160Z\"/>\n",
              "  </svg>\n",
              "    </button>\n",
              "\n",
              "  <style>\n",
              "    .colab-df-container {\n",
              "      display:flex;\n",
              "      gap: 12px;\n",
              "    }\n",
              "\n",
              "    .colab-df-convert {\n",
              "      background-color: #E8F0FE;\n",
              "      border: none;\n",
              "      border-radius: 50%;\n",
              "      cursor: pointer;\n",
              "      display: none;\n",
              "      fill: #1967D2;\n",
              "      height: 32px;\n",
              "      padding: 0 0 0 0;\n",
              "      width: 32px;\n",
              "    }\n",
              "\n",
              "    .colab-df-convert:hover {\n",
              "      background-color: #E2EBFA;\n",
              "      box-shadow: 0px 1px 2px rgba(60, 64, 67, 0.3), 0px 1px 3px 1px rgba(60, 64, 67, 0.15);\n",
              "      fill: #174EA6;\n",
              "    }\n",
              "\n",
              "    .colab-df-buttons div {\n",
              "      margin-bottom: 4px;\n",
              "    }\n",
              "\n",
              "    [theme=dark] .colab-df-convert {\n",
              "      background-color: #3B4455;\n",
              "      fill: #D2E3FC;\n",
              "    }\n",
              "\n",
              "    [theme=dark] .colab-df-convert:hover {\n",
              "      background-color: #434B5C;\n",
              "      box-shadow: 0px 1px 3px 1px rgba(0, 0, 0, 0.15);\n",
              "      filter: drop-shadow(0px 1px 2px rgba(0, 0, 0, 0.3));\n",
              "      fill: #FFFFFF;\n",
              "    }\n",
              "  </style>\n",
              "\n",
              "    <script>\n",
              "      const buttonEl =\n",
              "        document.querySelector('#df-aa426512-a7be-4463-8fe0-2eeaac4c25fb button.colab-df-convert');\n",
              "      buttonEl.style.display =\n",
              "        google.colab.kernel.accessAllowed ? 'block' : 'none';\n",
              "\n",
              "      async function convertToInteractive(key) {\n",
              "        const element = document.querySelector('#df-aa426512-a7be-4463-8fe0-2eeaac4c25fb');\n",
              "        const dataTable =\n",
              "          await google.colab.kernel.invokeFunction('convertToInteractive',\n",
              "                                                    [key], {});\n",
              "        if (!dataTable) return;\n",
              "\n",
              "        const docLinkHtml = 'Like what you see? Visit the ' +\n",
              "          '<a target=\"_blank\" href=https://colab.research.google.com/notebooks/data_table.ipynb>data table notebook</a>'\n",
              "          + ' to learn more about interactive tables.';\n",
              "        element.innerHTML = '';\n",
              "        dataTable['output_type'] = 'display_data';\n",
              "        await google.colab.output.renderOutput(dataTable, element);\n",
              "        const docLink = document.createElement('div');\n",
              "        docLink.innerHTML = docLinkHtml;\n",
              "        element.appendChild(docLink);\n",
              "      }\n",
              "    </script>\n",
              "  </div>\n",
              "\n",
              "\n",
              "    <div id=\"df-a3e015ff-270b-46ce-97fb-acc110184e81\">\n",
              "      <button class=\"colab-df-quickchart\" onclick=\"quickchart('df-a3e015ff-270b-46ce-97fb-acc110184e81')\"\n",
              "                title=\"Suggest charts\"\n",
              "                style=\"display:none;\">\n",
              "\n",
              "<svg xmlns=\"http://www.w3.org/2000/svg\" height=\"24px\"viewBox=\"0 0 24 24\"\n",
              "     width=\"24px\">\n",
              "    <g>\n",
              "        <path d=\"M19 3H5c-1.1 0-2 .9-2 2v14c0 1.1.9 2 2 2h14c1.1 0 2-.9 2-2V5c0-1.1-.9-2-2-2zM9 17H7v-7h2v7zm4 0h-2V7h2v10zm4 0h-2v-4h2v4z\"/>\n",
              "    </g>\n",
              "</svg>\n",
              "      </button>\n",
              "\n",
              "<style>\n",
              "  .colab-df-quickchart {\n",
              "      --bg-color: #E8F0FE;\n",
              "      --fill-color: #1967D2;\n",
              "      --hover-bg-color: #E2EBFA;\n",
              "      --hover-fill-color: #174EA6;\n",
              "      --disabled-fill-color: #AAA;\n",
              "      --disabled-bg-color: #DDD;\n",
              "  }\n",
              "\n",
              "  [theme=dark] .colab-df-quickchart {\n",
              "      --bg-color: #3B4455;\n",
              "      --fill-color: #D2E3FC;\n",
              "      --hover-bg-color: #434B5C;\n",
              "      --hover-fill-color: #FFFFFF;\n",
              "      --disabled-bg-color: #3B4455;\n",
              "      --disabled-fill-color: #666;\n",
              "  }\n",
              "\n",
              "  .colab-df-quickchart {\n",
              "    background-color: var(--bg-color);\n",
              "    border: none;\n",
              "    border-radius: 50%;\n",
              "    cursor: pointer;\n",
              "    display: none;\n",
              "    fill: var(--fill-color);\n",
              "    height: 32px;\n",
              "    padding: 0;\n",
              "    width: 32px;\n",
              "  }\n",
              "\n",
              "  .colab-df-quickchart:hover {\n",
              "    background-color: var(--hover-bg-color);\n",
              "    box-shadow: 0 1px 2px rgba(60, 64, 67, 0.3), 0 1px 3px 1px rgba(60, 64, 67, 0.15);\n",
              "    fill: var(--button-hover-fill-color);\n",
              "  }\n",
              "\n",
              "  .colab-df-quickchart-complete:disabled,\n",
              "  .colab-df-quickchart-complete:disabled:hover {\n",
              "    background-color: var(--disabled-bg-color);\n",
              "    fill: var(--disabled-fill-color);\n",
              "    box-shadow: none;\n",
              "  }\n",
              "\n",
              "  .colab-df-spinner {\n",
              "    border: 2px solid var(--fill-color);\n",
              "    border-color: transparent;\n",
              "    border-bottom-color: var(--fill-color);\n",
              "    animation:\n",
              "      spin 1s steps(1) infinite;\n",
              "  }\n",
              "\n",
              "  @keyframes spin {\n",
              "    0% {\n",
              "      border-color: transparent;\n",
              "      border-bottom-color: var(--fill-color);\n",
              "      border-left-color: var(--fill-color);\n",
              "    }\n",
              "    20% {\n",
              "      border-color: transparent;\n",
              "      border-left-color: var(--fill-color);\n",
              "      border-top-color: var(--fill-color);\n",
              "    }\n",
              "    30% {\n",
              "      border-color: transparent;\n",
              "      border-left-color: var(--fill-color);\n",
              "      border-top-color: var(--fill-color);\n",
              "      border-right-color: var(--fill-color);\n",
              "    }\n",
              "    40% {\n",
              "      border-color: transparent;\n",
              "      border-right-color: var(--fill-color);\n",
              "      border-top-color: var(--fill-color);\n",
              "    }\n",
              "    60% {\n",
              "      border-color: transparent;\n",
              "      border-right-color: var(--fill-color);\n",
              "    }\n",
              "    80% {\n",
              "      border-color: transparent;\n",
              "      border-right-color: var(--fill-color);\n",
              "      border-bottom-color: var(--fill-color);\n",
              "    }\n",
              "    90% {\n",
              "      border-color: transparent;\n",
              "      border-bottom-color: var(--fill-color);\n",
              "    }\n",
              "  }\n",
              "</style>\n",
              "\n",
              "      <script>\n",
              "        async function quickchart(key) {\n",
              "          const quickchartButtonEl =\n",
              "            document.querySelector('#' + key + ' button');\n",
              "          quickchartButtonEl.disabled = true;  // To prevent multiple clicks.\n",
              "          quickchartButtonEl.classList.add('colab-df-spinner');\n",
              "          try {\n",
              "            const charts = await google.colab.kernel.invokeFunction(\n",
              "                'suggestCharts', [key], {});\n",
              "          } catch (error) {\n",
              "            console.error('Error during call to suggestCharts:', error);\n",
              "          }\n",
              "          quickchartButtonEl.classList.remove('colab-df-spinner');\n",
              "          quickchartButtonEl.classList.add('colab-df-quickchart-complete');\n",
              "        }\n",
              "        (() => {\n",
              "          let quickchartButtonEl =\n",
              "            document.querySelector('#df-a3e015ff-270b-46ce-97fb-acc110184e81 button');\n",
              "          quickchartButtonEl.style.display =\n",
              "            google.colab.kernel.accessAllowed ? 'block' : 'none';\n",
              "        })();\n",
              "      </script>\n",
              "    </div>\n",
              "\n",
              "    </div>\n",
              "  </div>\n"
            ],
            "application/vnd.google.colaboratory.intrinsic+json": {
              "type": "dataframe",
              "variable_name": "df"
            }
          },
          "metadata": {},
          "execution_count": 57
        }
      ]
    },
    {
      "cell_type": "code",
      "source": [
        "# Hitung missing values\n",
        "print(\"Jumlah missing values per kolom:\")\n",
        "print(df.isnull().sum())"
      ],
      "metadata": {
        "colab": {
          "base_uri": "https://localhost:8080/"
        },
        "id": "mNLOPTPqp8AO",
        "outputId": "4d25d782-efbe-4c27-ab12-b2e6678376db"
      },
      "execution_count": null,
      "outputs": [
        {
          "output_type": "stream",
          "name": "stdout",
          "text": [
            "Jumlah missing values per kolom:\n",
            "InvoiceNo           0\n",
            "StockCode           0\n",
            "Description      1454\n",
            "Quantity            0\n",
            "InvoiceDate         0\n",
            "UnitPrice           0\n",
            "CustomerID     135080\n",
            "Country             0\n",
            "dtype: int64\n"
          ]
        }
      ]
    },
    {
      "cell_type": "code",
      "source": [
        "print(\"Jumlah CustomerID NaN:\", df['CustomerID'].isna().sum())"
      ],
      "metadata": {
        "colab": {
          "base_uri": "https://localhost:8080/"
        },
        "id": "-Ewc0ozxsvca",
        "outputId": "b32335f6-1fab-4943-db12-4917b860ce51"
      },
      "execution_count": null,
      "outputs": [
        {
          "output_type": "stream",
          "name": "stdout",
          "text": [
            "Jumlah CustomerID NaN: 135080\n"
          ]
        }
      ]
    },
    {
      "cell_type": "code",
      "source": [
        "df1 = df.dropna(subset=['CustomerID'])\n",
        "print(\"Setelah drop CustomerID NaN:\", len(df1))"
      ],
      "metadata": {
        "colab": {
          "base_uri": "https://localhost:8080/"
        },
        "id": "INRWCQh1qaW-",
        "outputId": "38a50b8b-ec45-475e-d312-a4c71b9c64ec"
      },
      "execution_count": null,
      "outputs": [
        {
          "output_type": "stream",
          "name": "stdout",
          "text": [
            "Setelah drop CustomerID NaN: 406829\n"
          ]
        }
      ]
    },
    {
      "cell_type": "code",
      "source": [
        "print(\"Jumlah transaksi Quantity <= 0:\", (df1['Quantity'] <= 0).sum())"
      ],
      "metadata": {
        "colab": {
          "base_uri": "https://localhost:8080/"
        },
        "id": "umofiSamrcTc",
        "outputId": "da3bf356-788b-42aa-bd62-9cb3fafab7ae"
      },
      "execution_count": null,
      "outputs": [
        {
          "output_type": "stream",
          "name": "stdout",
          "text": [
            "Jumlah transaksi Quantity <= 0: 8905\n"
          ]
        }
      ]
    },
    {
      "cell_type": "code",
      "source": [
        "df2 = df1[df1['Quantity'] > 0]\n",
        "print(\"Setelah filter Quantity > 0:\", len(df2))"
      ],
      "metadata": {
        "colab": {
          "base_uri": "https://localhost:8080/"
        },
        "id": "KzAYO0oxsdFs",
        "outputId": "5f96d796-7c72-4c7a-d7fb-8fab65dff9ef"
      },
      "execution_count": null,
      "outputs": [
        {
          "output_type": "stream",
          "name": "stdout",
          "text": [
            "Setelah filter Quantity > 0: 397924\n"
          ]
        }
      ]
    },
    {
      "cell_type": "code",
      "source": [
        "print(\"Jumlah transaksi UnitPrice <= 0:\", (df2['UnitPrice'] <= 0).sum())"
      ],
      "metadata": {
        "colab": {
          "base_uri": "https://localhost:8080/"
        },
        "id": "dkDxPedNq1Te",
        "outputId": "ee425e46-47e0-445c-f7df-595e1077acb4"
      },
      "execution_count": null,
      "outputs": [
        {
          "output_type": "stream",
          "name": "stdout",
          "text": [
            "Jumlah transaksi UnitPrice <= 0: 40\n"
          ]
        }
      ]
    },
    {
      "cell_type": "code",
      "source": [
        "df3 = df2[df2['UnitPrice'] > 0]\n",
        "print(\"Setelah filter UnitPrice > 0:\", len(df3))"
      ],
      "metadata": {
        "colab": {
          "base_uri": "https://localhost:8080/"
        },
        "id": "3IBzmJ34q4nG",
        "outputId": "0d96ecd1-03a8-49d6-860f-75a21ec3f790"
      },
      "execution_count": null,
      "outputs": [
        {
          "output_type": "stream",
          "name": "stdout",
          "text": [
            "Setelah filter UnitPrice > 0: 397884\n"
          ]
        }
      ]
    },
    {
      "cell_type": "code",
      "source": [
        "print(\"Jumlah Invoice Cancel (prefix C):\", df3['InvoiceNo'].astype(str).str.startswith('C').sum())"
      ],
      "metadata": {
        "colab": {
          "base_uri": "https://localhost:8080/"
        },
        "id": "gY7YFxW4t7aD",
        "outputId": "7318f251-7207-43b7-f7ce-40bd668e964b"
      },
      "execution_count": null,
      "outputs": [
        {
          "output_type": "stream",
          "name": "stdout",
          "text": [
            "Jumlah Invoice Cancel (prefix C): 0\n"
          ]
        }
      ]
    },
    {
      "cell_type": "code",
      "source": [
        "df4 = df3[~df3['InvoiceNo'].astype(str).str.startswith('C')]\n",
        "print(\"Setelah drop Invoice Cancel:\", len(df4))"
      ],
      "metadata": {
        "colab": {
          "base_uri": "https://localhost:8080/"
        },
        "id": "R8oyv-Hbt9yI",
        "outputId": "47a86a4e-bba0-4c03-bd97-730687de1030"
      },
      "execution_count": null,
      "outputs": [
        {
          "output_type": "stream",
          "name": "stdout",
          "text": [
            "Setelah drop Invoice Cancel: 397884\n"
          ]
        }
      ]
    },
    {
      "cell_type": "code",
      "source": [
        "df4['TotalPrice'] = df4['Quantity'] * df4['UnitPrice']\n",
        "print(\"Jumlah baris final setelah cleaning:\", len(df4))"
      ],
      "metadata": {
        "colab": {
          "base_uri": "https://localhost:8080/"
        },
        "id": "ok5iibvvuAjq",
        "outputId": "8423b895-dcdd-44ba-c107-ed082766c318"
      },
      "execution_count": null,
      "outputs": [
        {
          "output_type": "stream",
          "name": "stdout",
          "text": [
            "Jumlah baris final setelah cleaning: 397884\n"
          ]
        }
      ]
    },
    {
      "cell_type": "code",
      "source": [
        "snapshot_date = df4['InvoiceDate'].max() + pd.Timedelta(days=1)\n",
        "\n",
        "rfm = df4.groupby('CustomerID').agg({\n",
        "    'InvoiceDate': lambda x: (snapshot_date - x.max()).days,\n",
        "    'InvoiceNo': 'nunique',\n",
        "    'TotalPrice': 'sum'\n",
        "}).reset_index()\n",
        "\n",
        "rfm.rename(columns={'InvoiceDate': 'Recency',\n",
        "                    'InvoiceNo': 'Frequency',\n",
        "                    'TotalPrice': 'Monetary'}, inplace=True)\n",
        "print(\"Jumlah CustomerID unik setelah RFM:\", len(rfm))\n",
        "print(rfm.head())"
      ],
      "metadata": {
        "colab": {
          "base_uri": "https://localhost:8080/"
        },
        "id": "SR9qdRB3uDws",
        "outputId": "7bd4df98-16e5-4c1a-9489-4162cb210142"
      },
      "execution_count": null,
      "outputs": [
        {
          "output_type": "stream",
          "name": "stdout",
          "text": [
            "Jumlah CustomerID unik setelah RFM: 4338\n",
            "   CustomerID  Recency  Frequency  Monetary\n",
            "0     12346.0      326          1  77183.60\n",
            "1     12347.0        2          7   4310.00\n",
            "2     12348.0       75          4   1797.24\n",
            "3     12349.0       19          1   1757.55\n",
            "4     12350.0      310          1    334.40\n"
          ]
        }
      ]
    },
    {
      "cell_type": "code",
      "source": [
        "rfm.info()"
      ],
      "metadata": {
        "colab": {
          "base_uri": "https://localhost:8080/"
        },
        "id": "NLA-WERXuHu0",
        "outputId": "66ae4d2d-d463-4353-c35a-46b31e1c57a7"
      },
      "execution_count": null,
      "outputs": [
        {
          "output_type": "stream",
          "name": "stdout",
          "text": [
            "<class 'pandas.core.frame.DataFrame'>\n",
            "RangeIndex: 4338 entries, 0 to 4337\n",
            "Data columns (total 4 columns):\n",
            " #   Column      Non-Null Count  Dtype  \n",
            "---  ------      --------------  -----  \n",
            " 0   CustomerID  4338 non-null   float64\n",
            " 1   Recency     4338 non-null   int64  \n",
            " 2   Frequency   4338 non-null   int64  \n",
            " 3   Monetary    4338 non-null   float64\n",
            "dtypes: float64(2), int64(2)\n",
            "memory usage: 135.7 KB\n"
          ]
        }
      ]
    },
    {
      "cell_type": "code",
      "source": [
        "# Pastikan CustomerID tidak ikut dalam scaling\n",
        "rfm_features = rfm[['Recency', 'Frequency', 'Monetary']]\n",
        "\n",
        "# Normalisasi\n",
        "scaler = StandardScaler()\n",
        "rfm_scaled = scaler.fit_transform(rfm_features)\n",
        "\n",
        "# Elbow Method untuk cari k optimal\n",
        "inertia = []\n",
        "K = range(1, 10)\n",
        "for k in K:\n",
        "    kmeans = KMeans(n_clusters=k, random_state=42, n_init=10)\n",
        "    kmeans.fit(rfm_scaled)\n",
        "    inertia.append(kmeans.inertia_)\n",
        "\n",
        "plt.figure(figsize=(6,4))\n",
        "plt.plot(K, inertia, 'bx-')\n",
        "plt.xlabel('Jumlah Cluster (k)')\n",
        "plt.ylabel('Inertia')\n",
        "plt.title('Elbow Method untuk Menentukan k Optimal')\n",
        "plt.show()\n",
        "\n",
        "# Cek hasil\n",
        "print(rfm.groupby('Cluster').mean().round(1))"
      ],
      "metadata": {
        "colab": {
          "base_uri": "https://localhost:8080/",
          "height": 497
        },
        "id": "ThiOl1YmuVWJ",
        "outputId": "24fabfbe-85a7-4e09-c1ce-e45de854b002"
      },
      "execution_count": null,
      "outputs": [
        {
          "output_type": "display_data",
          "data": {
            "text/plain": [
              "<Figure size 600x400 with 1 Axes>"
            ],
            "image/png": "[encoded data removed]"
          },
          "metadata": {}
        },
        {
          "output_type": "stream",
          "name": "stdout",
          "text": [
            "         CustomerID  Recency  Frequency  Monetary\n",
            "Cluster                                          \n",
            "0           15355.0    247.1        1.6     631.4\n",
            "1           15282.8     41.5        4.7    1855.9\n",
            "2           15208.6      6.0       66.4   85904.4\n"
          ]
        }
      ]
    },
    {
      "cell_type": "code",
      "source": [
        "# Contoh gunakan k=4 (sesuaikan dengan elbow curve)\n",
        "kmeans = KMeans(n_clusters=3, random_state=42, n_init=10)\n",
        "rfm['Cluster'] = kmeans.fit_predict(rfm_scaled)\n",
        "\n",
        "plt.figure(figsize=(8,6))\n",
        "sns.scatterplot(data=rfm, x='Recency', y='Monetary', hue='Cluster', palette='Set2')\n",
        "plt.title('Customer Segments berdasarkan Recency & Monetary')\n",
        "plt.show()"
      ],
      "metadata": {
        "colab": {
          "base_uri": "https://localhost:8080/",
          "height": 564
        },
        "id": "FACmyxthujKw",
        "outputId": "be4007a7-1a71-4e13-a8c6-98478a843584"
      },
      "execution_count": null,
      "outputs": [
        {
          "output_type": "display_data",
          "data": {
            "text/plain": [
              "<Figure size 800x600 with 1 Axes>"
            ],
            "image/png": "[encoded data removed]"
          },
          "metadata": {}
        }
      ]
    },
    {
      "cell_type": "code",
      "source": [
        "import plotly.express as px\n",
        "\n",
        "fig = px.scatter_3d(\n",
        "    rfm,\n",
        "    x='Recency',\n",
        "    y='Frequency',\n",
        "    z='Monetary',\n",
        "    color='Cluster',\n",
        "    title=\"3D Customer Segmentation (RFM Clusters)\",\n",
        "    color_continuous_scale='Viridis'\n",
        ")\n",
        "fig.update_traces(marker=dict(size=3))\n",
        "fig.show()"
      ],
      "metadata": {
        "colab": {
          "base_uri": "https://localhost:8080/",
          "height": 542
        },
        "id": "XrKW5K7Num4t",
        "outputId": "bbed6907-95f1-462a-c0aa-89a6f6bbb1aa"
      },
      "execution_count": null,
      "outputs": [
        {
          "output_type": "display_data",
          "data": {
            "text/html": [
              "<html>\n",
              "<head><meta charset=\"utf-8\" /></head>\n",
              "<body>\n",
              "    <div>            <script src=\"https://cdnjs.cloudflare.com/ajax/libs/mathjax/2.7.5/MathJax.js?config=TeX-AMS-MML_SVG\"></script><script type=\"text/javascript\">if (window.MathJax && window.MathJax.Hub && window.MathJax.Hub.Config) {window.MathJax.Hub.Config({SVG: {font: \"STIX-Web\"}});}</script>                <script type=\"text/javascript\">window.PlotlyConfig = {MathJaxConfig: 'local'};</script>\n",
              "        <script charset=\"utf-8\" src=\"https://cdn.plot.ly/plotly-2.35.2.min.js\"></script>                <div id=\"442e4a06-f48f-4d58-b556-47d588b50647\" class=\"plotly-graph-div\" style=\"height:525px; width:100%;\"></div>            <script type=\"text/javascript\">                                    window.PLOTLYENV=window.PLOTLYENV || {};                                    if (document.getElementById(\"442e4a06-f48f-4d58-b556-47d588b50647\")) {                    Plotly.newPlot(                        \"442e4a06-f48f-4d58-b556-47d588b50647\",                        [{\"hovertemplate\":\"Recency=%{x}\\u003cbr\\u003eFrequency=%{y}\\u003cbr\\u003eMonetary=%{z}\\u003cbr\\u003eCluster=%{marker.color}\\u003cextra\\u003e\\u003c\\u002fextra\\u003e\",\"legendgroup\":\"\",\"marker\":{\"color\":[0,1,1,1,0,1,0,0,0,1,1,1,1,1,0,1,1,1,0,1,1,1,1,0,1,1,0,1,1,1,1,0,1,0,1,1,1,1,1,1,1,1,1,0,0,1,0,1,1,1,1,0,1,1,0,2,1,1,1,1,1,1,0,1,0,1,1,1,1,1,1,1,1,1,1,1,1,0,1,1,1,1,0,1,1,0,1,1,1,1,1,1,1,1,1,1,1,1,1,0,1,1,1,1,1,1,1,1,1,1,1,1,1,1,0,1,1,1,0,1,1,1,1,0,1,1,0,1,1,0,0,1,1,0,0,1,1,1,1,1,0,1,1,1,1,1,1,1,1,1,1,1,1,1,1,1,1,1,1,1,0,0,1,0,1,1,1,1,1,0,1,0,1,0,0,1,1,1,1,1,0,0,1,1,1,1,0,1,0,1,1,0,1,1,1,1,0,0,1,1,1,1,1,1,1,1,0,1,1,1,1,1,1,1,1,1,0,1,1,1,1,1,1,1,0,0,1,0,1,1,1,1,1,1,1,1,1,0,1,1,1,1,1,1,1,1,0,1,1,0,0,0,1,1,1,1,1,1,1,1,0,1,1,0,1,0,1,1,1,1,1,1,1,1,1,1,1,0,1,1,0,1,1,1,1,1,1,1,1,1,1,1,0,1,1,1,1,1,1,1,1,0,1,1,1,1,1,1,1,0,1,1,1,1,1,0,0,0,0,0,0,1,1,1,1,1,2,1,1,1,1,0,0,1,1,1,1,1,1,0,1,0,0,1,1,1,1,1,1,1,1,0,1,1,0,0,0,0,1,1,0,1,0,1,0,0,1,1,0,1,0,0,1,0,1,1,1,1,1,1,0,1,0,1,0,0,1,0,1,1,1,1,1,1,1,0,1,1,1,0,1,1,0,1,0,1,1,1,0,1,0,1,0,0,0,1,1,0,1,0,1,1,1,1,1,0,1,0,1,1,0,1,0,1,1,0,1,1,1,1,0,1,1,1,1,1,0,1,1,1,1,0,1,1,1,1,1,1,1,1,1,1,1,0,1,1,1,1,1,1,1,1,0,1,1,1,1,1,0,1,1,2,0,0,0,1,1,0,1,1,1,0,1,1,1,1,1,1,1,0,1,1,0,1,1,0,1,0,0,1,1,1,1,1,1,1,1,1,1,1,1,1,1,1,0,1,1,1,1,1,0,0,1,1,1,1,1,1,0,1,1,0,0,1,0,1,0,1,1,1,1,0,0,1,1,1,1,0,1,1,1,0,2,1,1,1,0,1,1,1,1,1,0,1,1,1,1,1,0,1,1,1,1,1,1,1,0,0,1,1,1,1,1,1,0,0,1,0,1,1,1,1,1,1,1,0,1,1,1,1,1,0,1,1,1,1,1,1,0,1,1,0,1,1,1,1,1,1,1,1,1,1,1,1,1,0,1,0,1,1,1,1,1,1,1,1,1,1,1,1,1,1,1,1,1,0,1,1,1,0,0,1,1,0,0,1,0,1,1,1,0,1,1,0,1,1,0,1,1,1,1,1,1,0,1,1,1,1,0,0,1,1,1,1,1,1,0,1,1,1,1,1,1,1,1,1,1,0,1,0,1,0,0,1,1,1,0,0,1,0,0,1,1,1,1,1,1,1,1,1,1,1,1,1,1,1,1,1,1,1,0,1,1,1,1,1,0,0,1,0,0,1,0,1,1,1,1,1,1,1,1,1,0,0,1,1,1,1,1,1,0,0,0,1,1,1,1,1,1,0,1,0,1,1,1,0,1,0,1,1,0,1,1,1,1,2,1,1,1,1,1,1,1,0,1,1,1,1,1,1,1,1,1,1,1,1,1,0,1,1,1,1,1,1,0,0,1,1,1,1,1,0,1,0,1,1,1,1,1,0,0,0,1,0,1,0,1,0,0,1,1,1,1,1,1,0,0,1,1,0,1,1,0,1,1,1,1,0,1,0,1,1,0,1,1,1,1,1,1,1,1,1,1,1,1,1,1,1,0,1,0,1,1,1,1,1,1,1,1,0,1,1,1,1,1,0,1,1,1,1,1,0,1,0,1,0,1,1,1,1,1,0,0,0,1,1,1,1,1,1,1,1,1,1,1,0,1,1,1,1,1,1,1,1,0,1,0,1,1,0,1,1,1,1,1,1,1,1,1,1,1,0,1,1,1,1,0,1,1,1,1,1,0,1,1,0,1,0,1,0,1,1,1,0,1,0,0,1,1,0,0,1,0,1,1,1,2,1,1,0,1,0,1,1,0,0,0,1,1,0,0,0,0,1,0,1,1,1,1,0,1,1,1,1,1,0,1,1,1,0,1,0,1,1,1,1,0,0,1,1,0,1,0,0,1,1,1,1,1,1,0,1,1,1,1,1,1,1,1,1,1,0,1,1,0,1,1,1,1,2,1,0,1,1,0,1,1,1,0,1,0,1,0,1,1,1,1,1,1,0,0,1,1,1,0,1,1,1,1,0,1,0,1,0,1,1,1,1,1,1,1,1,1,1,0,1,0,1,1,0,1,1,1,1,1,1,1,1,0,1,1,1,1,1,1,1,1,1,0,1,0,1,1,1,1,0,1,1,1,0,1,0,1,1,1,1,1,1,1,1,0,1,1,1,1,1,1,0,1,1,0,1,0,0,0,1,1,1,1,1,1,0,1,1,0,0,1,1,0,1,1,1,1,0,0,1,1,1,0,1,1,0,1,1,1,1,1,1,1,1,1,1,0,1,1,1,1,1,1,0,1,1,1,1,1,0,0,1,1,1,0,1,1,0,0,1,1,1,1,1,1,1,1,1,0,0,1,1,1,0,1,1,0,1,0,1,1,1,1,1,1,1,1,1,0,1,1,1,0,1,0,1,1,1,1,1,1,1,1,0,0,1,1,1,1,1,0,1,1,2,1,1,1,1,1,0,0,1,1,1,1,1,1,1,0,1,0,1,1,1,1,1,1,1,0,1,1,1,1,1,1,1,0,1,1,1,1,0,0,1,1,0,0,2,1,1,1,0,0,1,1,0,1,1,1,1,1,0,1,1,1,1,1,0,1,1,1,1,1,0,1,1,0,1,1,1,0,1,1,1,1,1,1,1,1,1,1,1,0,1,0,1,1,1,1,1,0,1,1,1,1,1,0,0,1,1,0,0,1,0,1,0,0,1,1,0,1,1,0,1,1,0,1,0,0,0,1,1,1,1,0,1,1,1,1,1,0,1,1,1,1,1,1,1,2,1,1,1,0,1,1,1,1,0,1,1,1,1,0,1,1,0,0,1,1,1,1,1,1,1,0,0,0,1,1,1,1,1,0,1,0,0,0,0,1,0,1,1,1,1,1,1,1,0,0,0,0,0,1,1,1,1,1,0,1,1,1,1,0,1,1,1,0,1,1,1,1,1,1,1,1,0,1,0,1,1,1,1,1,1,1,1,0,1,1,1,1,0,1,1,1,0,0,0,1,1,0,1,1,1,1,1,0,1,1,0,1,0,0,1,0,1,1,0,1,1,1,1,1,1,1,0,1,0,1,0,1,0,1,1,1,1,0,0,1,1,1,0,0,1,1,1,0,1,1,1,1,1,1,1,1,0,1,1,1,1,1,1,1,1,1,1,1,1,1,1,0,1,1,1,0,1,1,1,1,1,0,1,1,1,1,0,0,1,1,0,1,1,1,1,1,1,1,1,1,1,1,0,1,0,0,1,1,1,1,1,0,1,0,1,0,1,1,1,1,1,1,1,0,1,0,2,1,1,1,0,1,0,0,1,0,1,1,0,1,1,1,1,0,0,1,1,1,1,1,1,0,1,0,2,0,1,1,1,1,1,0,1,1,1,1,1,1,1,1,1,1,0,0,0,1,1,1,1,1,0,1,1,1,0,1,1,1,0,1,0,1,0,1,1,1,1,1,0,1,1,1,1,1,1,1,1,1,1,1,0,1,1,0,0,1,1,1,1,1,1,1,1,0,1,1,1,0,1,1,1,1,1,1,1,1,1,0,1,0,1,1,1,1,1,0,1,1,1,1,0,1,0,1,1,1,1,1,1,1,1,0,1,1,1,1,1,0,1,1,1,1,1,0,1,0,0,1,1,1,0,0,1,1,0,1,1,1,1,1,0,1,1,1,0,1,0,1,1,1,1,1,1,1,1,1,1,1,1,1,1,0,1,1,0,1,0,1,1,1,1,1,1,1,0,1,0,0,0,0,1,1,1,0,1,1,1,1,1,1,0,1,1,1,2,1,1,1,1,1,0,1,1,0,1,1,1,0,1,0,1,1,1,1,1,1,1,1,1,1,1,0,0,1,1,1,0,1,0,1,1,1,1,1,1,1,1,1,1,1,1,0,1,0,1,0,1,1,0,1,1,0,1,1,0,1,1,1,1,0,1,1,0,1,1,1,1,1,1,1,1,1,1,0,1,1,1,1,1,1,0,0,1,1,0,1,0,1,0,1,1,0,1,1,0,1,1,1,2,1,0,1,1,1,1,0,0,1,1,1,1,0,1,0,1,0,0,1,1,0,1,0,1,1,1,1,0,1,0,1,1,0,1,1,0,1,0,1,1,1,1,1,1,1,1,0,1,1,1,1,1,1,1,1,1,0,1,1,1,0,1,0,1,1,0,1,1,0,0,1,1,1,1,1,1,1,1,1,1,0,1,1,0,0,1,0,1,0,1,0,1,0,1,0,1,1,1,1,1,1,1,1,1,1,1,1,1,1,0,1,1,1,0,1,0,0,1,1,1,1,0,1,0,0,0,0,0,0,1,1,0,1,0,0,0,1,1,1,1,1,1,1,1,0,1,1,1,1,1,1,1,0,0,0,1,1,0,1,1,0,0,1,1,1,1,1,1,1,1,1,0,0,1,1,1,1,1,1,1,0,1,1,1,1,1,1,0,1,1,1,0,2,1,1,0,1,0,1,0,1,1,1,1,0,1,1,1,0,0,0,1,1,1,1,1,1,1,0,0,1,0,0,1,0,1,1,1,1,0,0,1,1,1,1,1,1,1,1,1,1,0,1,0,1,0,1,0,0,0,1,1,1,0,1,0,1,1,1,0,0,1,1,0,1,1,0,1,0,1,1,1,1,0,1,0,1,1,1,1,1,0,1,1,1,0,1,1,0,1,1,0,0,0,1,1,1,1,0,0,0,1,0,1,1,0,1,1,1,1,1,1,1,1,1,1,1,1,0,1,1,1,1,1,1,1,1,1,1,1,1,0,1,1,1,0,0,0,1,0,1,1,1,0,1,1,1,1,1,1,1,1,1,0,1,1,1,1,1,0,0,1,1,1,0,1,1,1,1,1,1,0,1,0,1,1,1,1,0,1,1,1,1,1,1,1,1,1,0,1,0,0,1,1,1,1,0,1,0,1,1,1,1,1,1,1,1,1,1,1,1,1,0,1,0,1,1,1,1,1,1,1,1,1,0,1,1,1,1,1,1,1,1,1,1,1,1,0,0,1,0,0,0,1,1,1,1,0,1,1,0,1,1,0,1,1,0,1,0,1,0,1,1,1,1,1,1,1,1,1,1,1,1,1,1,0,1,1,0,1,1,0,1,0,1,0,1,1,1,0,1,0,1,1,0,1,1,1,1,0,0,1,1,0,1,0,0,1,1,1,1,1,1,1,1,1,1,1,0,1,1,0,1,1,1,1,1,0,1,1,1,1,1,2,1,1,0,1,0,0,1,1,1,1,1,1,0,1,1,1,0,1,1,1,1,1,0,1,1,1,1,1,0,1,1,1,1,0,1,1,1,0,1,1,0,0,1,1,1,1,1,0,1,1,1,1,1,1,1,1,0,1,1,1,1,0,1,1,1,1,1,1,1,1,1,1,1,1,1,1,0,1,1,1,1,0,0,0,1,1,1,1,0,0,0,0,0,1,0,1,1,1,1,1,1,0,1,0,1,0,0,1,0,0,0,0,0,1,1,1,0,1,1,1,0,1,0,0,1,1,1,1,1,1,1,1,1,1,1,1,1,1,0,1,0,1,1,0,1,1,1,1,1,1,1,1,1,1,1,1,1,1,1,1,1,1,1,0,1,1,1,0,1,1,2,1,1,1,1,1,1,1,0,1,1,1,1,1,2,0,1,1,0,1,0,1,1,1,1,1,1,0,1,0,1,1,0,0,1,1,1,1,0,0,1,1,1,0,0,1,0,1,1,1,1,0,1,1,0,1,1,1,0,0,1,1,1,1,1,1,0,1,1,1,0,1,1,0,0,1,0,0,1,1,1,1,1,0,0,1,1,1,1,1,1,0,1,1,1,1,0,1,0,1,0,1,0,1,1,0,1,1,1,0,1,1,0,0,1,1,1,1,1,1,1,1,1,1,1,1,1,1,1,1,1,1,1,1,1,1,1,1,0,1,1,1,0,1,1,1,1,1,1,1,1,1,1,1,0,1,0,0,1,1,0,1,1,0,0,1,0,1,1,1,1,1,1,1,1,1,0,1,0,1,1,0,1,1,0,0,1,1,1,1,1,1,0,1,1,0,0,0,1,1,1,0,1,1,0,1,1,1,0,1,1,1,0,0,1,1,1,1,0,1,1,1,0,0,1,1,0,1,1,1,1,1,1,1,1,0,0,1,1,1,1,0,1,1,1,0,1,0,1,1,1,0,1,1,1,1,1,1,1,1,1,1,1,1,1,1,1,1,1,0,0,1,1,1,1,1,1,0,1,0,1,1,1,0,1,1,1,0,0,1,0,1,1,1,1,1,1,1,1,1,1,1,2,1,0,0,1,0,1,1,0,1,1,1,1,1,1,1,1,1,2,1,0,0,0,1,1,1,1,0,1,1,0,1,1,1,1,1,1,1,0,0,1,1,1,1,1,1,1,0,0,1,1,1,1,0,1,1,1,0,0,1,1,1,1,1,0,0,1,1,1,1,0,1,1,0,1,1,0,1,1,0,1,1,1,1,1,1,1,0,0,1,1,1,0,1,1,1,1,1,1,1,1,1,0,1,0,1,1,1,1,1,1,0,1,0,1,0,0,1,1,1,1,1,1,1,1,0,1,1,1,1,1,1,0,0,1,1,0,1,0,1,0,1,1,0,1,0,1,1,1,1,1,0,1,1,1,1,1,0,0,0,1,1,1,1,1,1,1,1,0,0,1,0,1,1,1,1,1,1,1,1,1,1,0,1,1,1,2,1,1,1,1,1,0,1,1,0,0,1,1,1,1,1,1,1,1,1,1,0,1,0,1,0,1,1,0,1,1,0,1,0,1,1,1,1,1,1,1,0,0,1,1,1,1,1,1,1,1,1,0,1,0,1,0,0,1,1,1,1,0,1,0,0,1,1,0,1,1,1,1,1,1,1,1,1,1,0,1,1,1,1,1,1,0,1,1,0,1,1,0,1,1,0,1,1,1,1,0,1,0,1,1,1,1,1,1,0,1,1,1,1,0,1,0,1,0,1,1,1,0,1,1,1,1,1,1,1,0,0,1,1,1,1,0,0,1,1,1,1,1,1,1,1,1,1,1,1,1,0,1,1,1,0,1,1,0,1,0,1,1,1,1,1,1,1,1,1,1,1,1,0,1,1,1,0,1,1,1,1,1,0,1,1,1,1,1,1,1,1,1,1,1,1,0,1,0,1,1,1,1,1,1,1,0,1,0,1,1,1,0,0,1,0,1,1,1,0,1,1,0,1,1,1,1,1,1,1,1,0,1,1,0,0,1,1,1,1,1,1,1,1,1,1,1,1,1,1,1,1,0,1,1,1,1,1,1,0,1,1,1,1,1,1,1,1,0,1,1,1,1,0,1,1,1,1,1,0,1,0,1,1,1,1,1,1,1,1,1,1,1,1,1,1,1,1,1,1,1,1,1,1,0,1,1,1,1,1,0,0,1,1,0,1,1,1,0,0,1,0,1,0,0,1,0,0,1,1,1,1,0,1,0,0,1,1,1,1,0,1,1,1,1,1,1,1,1,1,1,0,1,1,0,1,1,0,1,0,0,1,1,1,1,0,1,1,1,1,1,0,1,1,1,1,0,1,1,1,0,1,1,0,1,1,1,1,1,0,0,1,1,1,0,1,1,1,0,1,1,1,1,0,1,1,1,0,1,1,1,0,1,1,1,1,1,0,1,0,1,1,1,1,1,1,0,0,1,1,1,1,1,1,1,1,0,1,1,1,1,1,1,1,0,1,1,1,1,1,1,1,1,1,1,1,1,0,1,1,1,1,0,0,1,1,1,0,0,1,1,1,1,1,0,1,1,1,1,0,1,0,1,1,1,0,1,1,0,1,1,1,1,1,0,0,1,1,1,1,1,1,1,1,1,1,1,1,0,0,0,1,1,1,1,1,1,1,1,0,0,0,1,1,1,1,1,1,1,1,1,1,1,1,1,1,1,1,1,0,1,1,1,1,0,0,1,0,0,0,1,1,2,1,1,0,0,0,1,1,1,1,1,1,1,0,1,1,1,1,0,1,1,1,1,0,1,1,1,0,1,0,1,0,1,0,1,1,0,0,1,0,0,1,1,2,1,1,1,1,1,0,1,1,1,1,1,0,0,1,1,1,1,0,1,0,0,1,1,1,0,1,0,1,0,0,1,1,1,1,0,1,1,1,1,1,1,1,0,1,1,1,0,1,0,1,0,1,0,1,1,1,1,1,1,1,1,1,1,0,1,0,1,1,0,1,1,1,1,1,1,1,0,1,0,1,1,1,1,1,1,1,0,1,1,1,1,1,0,1,1,0,1,0,1,1,1,1,1,1,1,0,1,1,1,1,0,1,1,1,1,1,1,0,1,1,1,1,1,1,1,0,1,1,1,1,1,1,1,0,1,1,0,1,1,0,0,1,0,1,1,0,1,1,0,0,0,1,1,0,0,1,0,1,1,1,1,1,1,1,1,1,1,0,1,1,1,1,1,1,1,1,1,0,1,0,1,0,1,1,1,1,1,1,0,1,0,1,1,1,0,1,1,1,0,1,1,0,1,1,1,0,1,0,1,1,1,0,1,1,1,1,1,1,1,1,1,1,1,1,1,1,1,1,1,0,1,1,1,1,1,1,1,1,2,0,1,1,1,0,0,1,0,0,1,1,1,0,0,1,0,1,1,1,0,1,1,1,0,1,0,0,1,0,0,0,1,1,1,1,1,1,0,0,0,1,0,1,1,1,0,1,0,0,1,1,1,0,0,1,0,1,1,1,1,1,1,0,1,0,1,1,1,1,1,1,1,1,1,1,0,1,1,1,0,1,0,2,1,1,1,0,0,1,1,0,1,0,1,1,1,0,0,0,0,0,1,1,1,0,1,0,1,0,0,1,1,0,1,0,0,1,0,1,1,1,0,1,1,1,0,0,0,0,1,1,1,1,1,1,1,0,1,1,0,1,1,1,1,0,1,1,1,1,1,1,0,0,1,1,0,1,1,1,0,1,1,1,1,0,1,0,0,1,0,1,1,0,1,1,1,1,1,0,0,1,1,1,1,1,0,1,1,1,1,2,1,1,0,0,1,1,1,0,0,1,1,1,0,0,0,1,1,1,1,1,0,1,0,1,1,0,1,0,1,1,1,0,1,1,1,1,1,1,1,1,0,1,1,1,0,1,0,1,1,1,1,1,1,0,1,1,1,1,1,0,1,0,1,1,0,0,1,0,1,1,1,1,0,0,1,1,1,1,1,0,0,1,1,1,0,1,0,1,1,1,0,1,1,0,1,1,1,0,1,0,1,1,1,0,1,1,1,1,1,1,1,0,1,1,1,1,1,0,1,0,1,1,1,0,1,1,1,1,1,1,1,0,0,1,1,1],\"coloraxis\":\"coloraxis\",\"symbol\":\"circle\",\"size\":3},\"mode\":\"markers\",\"name\":\"\",\"scene\":\"scene\",\"showlegend\":false,\"x\":[326,2,75,19,310,36,204,232,214,23,33,2,58,52,287,3,110,8,291,4,51,45,72,311,25,11,315,130,82,22,5,185,29,338,16,80,22,72,64,19,36,46,119,303,323,50,149,22,50,33,79,309,75,67,217,24,3,113,64,16,96,1,163,78,195,22,26,9,43,36,43,1,85,80,100,2,14,367,3,21,22,58,243,44,22,156,11,17,134,56,73,44,66,71,94,19,53,10,17,188,2,32,29,17,54,16,23,4,11,28,23,17,33,10,336,5,39,63,166,16,82,21,23,337,96,18,233,134,26,284,143,66,113,267,353,78,28,1,64,79,143,39,19,9,1,82,9,60,15,30,131,92,43,29,22,20,30,36,75,47,198,166,79,358,39,8,50,16,8,311,5,303,8,261,289,86,23,2,40,9,227,316,36,35,21,78,247,40,239,3,4,234,17,8,39,29,211,317,92,109,38,51,19,10,29,29,190,59,22,79,60,78,23,52,74,57,278,2,95,29,22,16,15,2,232,276,106,212,23,11,4,10,57,59,90,67,33,239,24,115,25,128,130,34,5,22,155,107,3,335,331,149,11,17,11,19,30,11,1,8,325,58,12,151,10,330,5,39,25,42,59,1,15,4,4,8,28,372,114,26,206,28,127,70,7,29,8,80,20,71,7,15,292,30,15,97,29,1,9,106,4,151,71,5,3,32,85,4,5,371,28,11,71,114,24,180,234,353,315,333,372,78,64,134,52,2,1,4,129,81,23,236,281,87,16,117,52,8,138,317,4,239,211,60,17,20,38,64,5,2,9,364,10,65,192,374,257,335,53,19,366,10,187,37,178,261,45,102,148,96,281,262,3,214,71,75,60,3,6,3,337,38,262,32,145,283,59,173,34,3,144,5,70,66,29,267,22,31,97,295,135,79,373,8,211,52,138,26,283,26,186,84,327,282,143,58,4,236,45,276,9,25,88,63,68,214,24,186,31,42,205,9,265,18,12,176,40,23,3,5,149,139,128,8,17,9,161,64,88,5,35,312,78,22,24,2,17,15,26,64,55,131,36,288,144,16,31,2,9,6,10,1,306,10,7,8,89,10,358,112,7,4,198,212,156,158,30,243,19,1,74,292,3,31,23,23,4,85,22,196,107,4,318,106,12,174,56,323,372,9,1,11,53,73,7,16,4,64,1,114,23,31,11,52,357,55,74,138,80,9,273,291,99,31,32,14,64,15,212,78,25,250,254,72,191,13,373,24,82,10,1,192,267,130,1,3,4,179,12,126,4,158,3,9,28,71,276,21,71,33,1,99,234,1,40,3,133,44,373,60,31,1,12,138,22,20,239,269,94,90,5,78,94,23,262,274,86,197,56,11,22,16,108,85,19,333,40,26,10,29,14,296,6,33,49,95,9,22,313,122,46,283,19,36,64,27,22,4,16,46,65,26,45,8,15,268,40,337,11,19,95,61,136,11,10,4,19,10,15,59,30,94,10,20,57,268,122,127,78,240,200,60,3,273,202,81,226,4,13,74,212,25,17,262,96,112,203,93,51,18,18,125,92,157,9,12,62,61,269,263,1,53,11,3,18,1,366,37,31,113,64,16,41,78,122,18,60,331,23,156,39,190,360,137,8,1,268,169,104,155,351,4,120,23,7,28,4,22,2,37,66,1,5,78,72,17,3,36,82,39,316,32,93,14,82,77,158,201,45,261,178,68,288,70,64,11,16,66,60,71,122,80,257,269,64,9,18,71,34,50,257,366,372,90,61,89,99,26,32,281,31,330,131,11,75,204,2,185,29,73,192,127,18,1,74,2,24,107,134,44,5,12,64,150,40,64,108,1,19,10,11,19,67,74,5,2,14,255,92,23,17,24,27,26,259,166,25,18,7,29,39,253,58,184,11,2,99,1,61,236,191,179,38,201,46,232,66,241,233,78,58,17,105,52,136,275,312,8,11,283,18,23,288,17,71,64,73,316,3,244,9,1,261,127,74,73,21,60,86,78,59,1,30,33,41,15,34,79,205,34,183,2,1,43,86,40,12,96,26,319,66,74,28,6,7,216,82,84,144,19,41,173,17,243,13,206,50,23,10,25,15,309,156,307,64,16,15,11,65,36,108,53,6,47,1,312,45,65,26,29,40,12,89,24,319,40,174,117,31,253,59,23,5,100,25,33,68,37,52,16,74,216,31,16,120,10,257,17,35,46,43,114,165,11,10,206,86,179,60,149,3,51,75,301,19,151,152,1,18,187,286,3,183,63,59,25,4,31,39,155,26,318,5,8,303,267,271,4,32,219,247,281,269,32,246,15,117,36,132,217,50,39,29,37,136,219,28,25,5,200,18,241,72,17,3,95,162,374,96,54,288,124,288,152,4,2,12,33,54,50,219,63,71,2,2,64,34,82,1,103,7,251,13,10,367,76,4,128,66,1,117,310,67,139,255,31,52,64,367,6,305,29,184,42,40,92,22,24,29,302,145,6,19,33,176,58,22,16,19,159,25,212,6,253,59,11,65,25,92,52,129,96,57,9,169,57,326,1,18,248,58,74,31,7,123,2,23,120,358,54,64,86,55,21,4,3,11,7,189,71,204,120,93,1,27,298,24,28,50,326,16,183,72,37,80,57,12,50,50,59,352,54,2,93,23,75,11,169,58,96,295,109,264,180,169,35,23,17,22,79,65,361,3,11,176,218,7,2,154,5,79,21,22,308,146,7,19,71,287,49,31,207,15,73,60,39,30,27,4,17,20,66,213,12,30,43,4,15,10,211,46,134,43,10,116,198,278,110,77,53,162,47,17,155,225,7,122,61,63,18,7,2,22,29,285,176,78,33,41,266,27,109,284,9,305,17,32,1,20,124,65,106,1,24,267,5,10,29,267,64,320,4,32,5,129,41,102,125,33,302,365,4,2,3,10,57,325,8,12,4,37,16,138,74,5,155,239,52,31,73,4,14,23,4,274,20,144,4,84,11,8,123,61,2,319,2,130,2,2,46,4,3,373,134,47,9,78,234,221,36,75,239,266,10,20,40,20,216,174,87,71,276,39,98,11,33,60,297,86,9,41,11,67,331,31,2,2,68,5,202,107,18,218,60,2,17,239,95,11,106,53,90,31,12,3,2,43,4,247,42,177,92,110,29,26,52,184,43,49,22,75,81,373,326,43,30,184,235,9,220,111,278,318,7,2,260,64,9,142,51,8,155,109,163,332,226,74,51,99,15,197,3,31,21,24,8,213,9,11,2,8,3,40,18,8,8,19,117,223,71,51,89,8,243,47,107,45,65,207,11,115,242,163,17,124,23,68,17,16,17,161,243,219,45,21,127,39,121,260,10,274,165,157,215,6,366,80,43,19,32,22,109,8,320,295,358,185,191,44,52,26,38,9,297,33,10,65,10,218,2,65,3,149,4,130,34,119,107,11,71,92,311,43,362,92,1,22,4,11,99,57,1,218,18,24,50,7,303,10,22,99,366,306,320,8,1,205,54,1,19,9,19,181,60,11,190,5,311,155,110,148,66,98,247,29,18,12,104,74,46,72,257,20,254,11,165,18,282,50,39,27,68,207,175,7,26,51,312,309,43,26,88,184,20,3,47,17,17,24,22,11,188,101,61,18,33,64,2,24,108,32,20,3,37,60,26,236,25,3,60,260,58,65,16,10,59,186,29,24,5,4,151,311,11,18,152,19,10,57,85,7,76,4,96,111,57,1,281,3,180,372,13,3,17,41,6,169,50,277,19,372,15,35,22,7,20,11,44,306,11,275,1,16,4,72,243,9,246,206,1,185,32,57,196,24,91,4,51,263,266,36,51,52,24,22,59,170,68,157,2,201,5,67,77,1,8,169,18,5,9,87,27,29,20,61,24,11,242,280,235,3,16,31,25,71,188,26,107,8,209,44,31,137,265,4,218,2,214,32,11,1,15,11,199,3,15,14,10,29,9,24,25,43,2,6,147,10,25,274,374,1,47,8,16,4,4,43,4,197,12,16,113,249,29,44,87,45,10,15,75,145,5,297,59,264,47,29,8,17,3,232,112,58,51,127,281,55,320,26,10,7,29,17,64,21,3,166,1,53,51,48,61,162,9,15,75,40,41,370,37,197,200,74,64,21,367,180,10,4,197,29,53,18,10,90,268,53,44,64,149,22,312,23,58,24,78,119,36,60,13,19,52,26,29,7,11,186,3,9,262,3,210,108,13,77,20,27,19,132,253,79,207,336,254,148,10,85,8,205,8,23,11,26,21,2,158,3,74,3,1,17,36,91,71,116,213,30,51,246,32,109,5,366,82,297,34,57,30,14,72,23,19,79,60,25,12,253,147,64,8,11,271,10,247,96,15,50,30,68,35,128,107,37,57,57,72,246,19,198,16,212,39,46,170,48,116,147,16,51,159,12,36,54,43,173,34,39,267,9,12,3,10,33,80,31,8,72,4,256,5,16,90,72,59,10,170,199,31,19,152,9,270,65,274,25,23,319,5,12,275,25,41,8,4,71,213,38,53,78,46,179,373,94,10,105,78,173,7,213,22,257,282,21,10,308,68,215,18,104,43,4,182,84,334,9,31,197,18,18,311,142,246,24,29,10,30,18,18,15,134,246,134,50,114,7,23,25,66,60,50,170,18,128,15,239,3,240,52,46,226,8,4,165,240,11,134,17,10,31,75,1,4,45,2,357,18,69,373,321,26,331,9,323,72,260,18,367,66,154,29,70,14,2,1,120,61,3,3,11,92,59,87,26,357,85,10,1,225,60,241,319,2,47,88,11,176,52,366,319,226,358,234,311,37,66,239,113,277,218,299,2,29,10,45,67,74,65,134,238,122,32,9,36,16,127,67,149,283,169,100,135,324,107,64,151,338,22,24,16,7,57,4,38,66,47,355,172,59,50,22,43,29,5,26,201,51,10,2,67,64,51,290,61,64,96,274,1,75,110,199,64,327,4,284,44,71,86,104,334,53,39,32,366,208,157,54,66,81,130,87,1,46,333,366,72,158,373,12,255,29,31,5,40,362,373,96,26,75,57,21,41,137,8,129,40,169,9,214,15,170,40,186,270,172,5,16,10,326,113,290,16,1,92,149,189,31,34,264,84,26,171,10,313,65,85,25,59,323,38,254,19,33,15,27,23,214,8,22,12,262,131,55,249,2,9,264,331,313,26,30,30,2,362,283,262,25,354,94,29,338,20,85,9,51,50,2,113,14,77,40,116,16,161,1,30,93,23,95,28,33,21,18,3,8,16,363,81,53,23,172,189,331,12,156,33,12,45,233,64,2,40,33,84,25,2,33,19,254,23,22,8,25,19,173,163,7,11,114,288,9,54,7,77,4,37,217,60,278,12,24,29,12,352,22,50,19,3,104,7,12,5,32,178,38,151,162,69,121,25,24,177,50,256,47,71,16,101,35,53,27,11,8,79,52,36,61,337,28,184,52,10,36,10,33,11,57,4,43,141,117,104,75,5,45,16,17,90,53,134,4,105,192,166,19,158,204,336,37,91,93,9,243,45,23,190,44,25,317,106,51,168,40,218,40,297,19,88,73,81,19,49,53,24,9,25,117,9,120,4,252,28,1,267,33,18,172,2,265,140,201,64,35,41,284,9,143,12,146,234,33,24,12,36,365,201,15,17,213,66,212,283,115,15,19,66,49,16,78,19,134,13,40,235,3,40,305,51,10,61,66,25,218,65,32,88,64,116,7,6,69,245,133,241,184,25,10,11,33,46,26,358,10,44,15,150,1,113,76,107,46,143,51,1,23,46,50,306,36,79,22,107,208,17,64,49,320,44,3,372,172,56,73,99,38,58,254,70,44,50,65,11,33,59,73,304,46,18,38,19,187,52,4,137,4,19,16,41,12,8,26,22,41,101,5,277,33,15,64,2,369,312,199,2,93,60,81,157,227,253,150,194,1,369,24,17,10,8,20,4,174,1,178,16,248,191,20,154,173,373,373,194,67,4,21,239,64,112,90,311,134,277,365,83,8,17,32,9,34,15,24,32,74,20,17,23,3,304,18,367,39,84,165,17,77,89,25,22,3,123,30,12,19,44,4,9,55,88,37,3,30,12,211,48,24,22,246,8,35,4,38,4,3,47,39,47,17,260,46,12,30,43,92,39,310,92,6,196,87,270,8,65,31,22,38,120,373,40,174,54,33,145,221,45,16,66,10,260,365,17,22,45,288,297,3,284,17,82,56,101,299,23,59,155,115,107,12,264,240,88,50,71,42,7,62,249,66,18,85,219,45,143,183,171,10,212,190,8,59,57,73,52,317,367,29,39,18,52,4,22,263,60,19,66,88,250,3,247,9,157,134,296,5,43,269,50,9,16,282,65,2,252,232,17,11,8,51,59,95,16,126,94,50,138,61,100,73,72,67,64,17,23,32,45,16,40,3,237,75,4,3,361,59,23,31,55,25,45,89,2,89,19,79,171,81,267,235,30,37,318,57,45,203,225,87,190,44,71,41,78,57,24,10,8,34,212,24,170,62,53,261,67,17,267,177,45,51,17,9,74,71,353,3,117,373,197,177,100,21,72,340,6,31,170,122,22,10,269,23,127,26,139,214,38,106,18,3,331,64,120,35,218,172,72,1,196,128,47,6,14,18,28,8,37,157,284,107,25,75,16,158,44,11,32,291,21,333,18,4,63,198,33,1,7,5,10,32,53,12,18,19,37,2,18,82,33,66,9,267,247,4,61,75,90,60,29,323,53,270,2,57,61,154,19,95,1,265,312,70,302,19,13,36,19,54,57,22,44,27,45,113,17,25,191,302,2,263,106,57,213,64,28,29,6,8,67,2,46,34,1,136,198,198,150,88,45,64,99,218,3,28,178,74,21,20,34,74,24,52,275,165,7,88,64,25,10,76,16,192,174,77,33,47,80,297,3,9,50,161,360,5,107,25,32,20,297,372,22,5,52,30,277,61,25,186,2,2,172,81,4,190,22,18,19,5,110,3,54,165,291,10,109,96,243,163,42,35,67,24,1,27,6,54,364,15,194,3,15,27,127,85,71,183,113,374,80,249,232,71,69,4,51,75,61,16,4,286,4,41,36,75,18,15,219,186,33,70,183,15,236,31,264,4,52,246,81,275,1,79,30,74,17,223,32,23,31,106,5,246,178,170,43,72,59,16,141,18,22,10,368,189,16,362,19,68,15,24,17,28,2,55,34,3,366,43,73,5,4,61,47,1,76,72,256,69,135,241,227,9,9,1,37,46,85,19,3,9,19,219,78,267,24,369,15,26,262,17,91,302,26,364,46,38,52,32,52,79,53,298,177,47,29,11,87,5,38,18,45,31,373,58,372,114,215,319,65,8,97,20,199,4,294,273,31,48,260,58,33,57,68,10,60,80,74,2,100,372,10,20,123,8,4,29,282,57,1,365,89,11,163,65,23,174,103,143,99,23,192,5,361,8,14,103,3,11,96,227,16,39,51,93,157,39,184,1,228,128,40,31,197,9,37,101,43,50,43,53,187,334,4,10,24,15,369,145,60,31,141,23,22,77,5,67,12,84,31,67,67,187,38,15,35,195,2,1,367,65,299,26,8,17,116,29,4,5,82,29,72,4,29,290,36,9,24,277,50,156,61,12,21,371,116,80,4,26,5,53,1,55,26,9,52,13,212,22,236,139,4,57,135,109,30,1,185,18,239,87,39,116,187,227,8,189,4,39,38,267,78,4,255,61,13,88,17,30,3,5,7,219,11,30,288,150,23,1,86,46,5,51,18,30,8,29,3,41,11,31,45,61,185,79,111,64,12,86,16,246,88,30,138,27,3,32,25,113,157,85,118,3,96,194,28,131,28,82,30,266,74,314,21,59,12,28,114,28,18,18,36,36,78,22,25,33,109,35,123,7,28,4,3,50,322,23,15,2,18,10,262,159,33,29,165,47,6,8,288,318,3,233,119,162,185,50,152,335,5,16,107,16,276,16,247,239,1,106,23,52,195,24,75,18,8,32,22,31,29,22,33,284,39,58,289,79,5,218,44,202,178,56,57,8,47,227,11,106,59,28,36,274,30,24,54,36,175,54,53,27,253,40,60,234,4,32,24,7,65,310,309,19,16,96,264,12,3,35,183,25,13,11,3,313,108,1,53,205,15,120,4,363,117,18,5,41,107,148,52,208,139,2,127,108,42,35,228,241,58,130,60,22,26,9,32,4,308,8,29,17,101,12,21,15,361,11,95,78,139,31,25,2,46,100,8,15,18,280,14,23,124,86,302,151,17,94,30,157,355,46,15,4,86,15,179,8,36,129,51,312,24,303,11,17,49,239,1,13,238,23,73,17,41,40,219,199,71,24,11,9,65,4,19,15,8,20,78,1,164,307,219,39,22,115,126,5,36,4,1,333,163,185,16,12,3,44,80,30,42,11,50,16,46,19,8,72,1,128,33,313,18,88,2,2,254,157,37,220,148,177,40,2,8,1,18,192,204,365,127,15,43,94,23,60,16,158,10,10,16,45,191,79,78,4,65,261,59,1,1,248,8,359,76,290,17,221,9,3,206,162,76,262,281,58,25,3,29,72,128,31,15,309,17,54,30,2,11,361,360,5,54,1,1,190,54,280,177,30,26,25,270,43,234,24,197,359,60,130,1,20,206,14,95,19,14,24,8,7,332,50,71,29,243,8,218,5,253,1,236,7,109,100,60,2,73,4,85,12,23,214,18,239,2,78,217,33,41,7,53,23,57,130,174,6,312,60,21,33,15,18,81,6,170,2,31,36,19,31,276,87,120,373,1,219,65,61,138,21,12,25,37,277,11,73,26,17,141,26,19,4,66,1,43,228,16,50,2,74,1,4,2,264,53,24,10,44,17,7,30,358,127,137,142,132,38,236,261,17,253,30,35,169,3,4,185,188,170,11,45,321,201,23,232,38,26,96,127,71,16,15,4,3,79,373,39,54,2,9,9,19,12,113,4,240,113,178,5,359,1,1,19,17,22,33,263,51,159,15,8,13,199,57,11,97,255,25,21,159,72,53,85,153,74,281,27,30,25,180,40,22,22,37,82,74,11,16,4,13,14,37,4,72,51,5,23,299,2,33,50,3,47,42,27,42,2,303,107,85,81,218,372,12,185,373,2,4,6,305,369,3,324,59,13,31,143,30,107,2,205,80,185,170,44,174,365,304,3,4,12,32,129,21,212,323,162,56,225,72,44,23,173,85,159,190,29,21,71,247,374,9,310,59,4,45,88,4,64,282,12,373,133,45,11,36,134,29,52,138,5,9,160,49,131,8,233,37,147,1,72,40,5,199,249,66,117,171,21,142,32,38,38,372,374,166,211,242,52,25,15,372,29,365,36,166,145,22,56,185,12,237,225,122,282,74,37,12,362,4,23,70,235,257,373,155,28,4,32,81,108,52,36,153,99,4,334,65,22,36,32,154,19,12,54,25,4,45,203,359,71,7,288,10,23,22,173,133,6,75,40,289,26,258,186,114,374,23,8,217,45,19,36,26,16,330,274,98,61,2,93,82,313,12,8,127,11,1,37,38,330,254,2,20,12,369,290,68,26,11,368,214,149,8,24,30,61,19,243,15,212,29,63,295,18,157,117,8,13,141,46,51,32,135,3,75,13,9,301,57,15,37,177,23,176,61,33,59,15,87,7,358,31,129,9,5,24,227,15,249,15,78,192,262,72,165,82,95,4,106,200,157,71,36,29,2,26,326,237,89,31,29,211,3,227,22,93,5,264,3,44,218,57,12,9,192,82,326,72,30,3,219,46,10,72,7,24,123,17,310,87,51,89,39,25,173,43,140,26,72,134,366,38,3,2,30,44,58,74,278,181,8,4,43],\"y\":[1,7,4,1,1,8,1,1,1,3,1,2,4,3,1,10,2,4,2,1,4,2,3,1,1,2,2,1,2,4,5,5,2,2,6,1,1,4,2,12,2,1,4,1,1,1,1,2,5,5,3,2,3,3,3,21,9,1,1,4,3,8,2,1,1,3,9,4,1,15,5,7,2,2,1,18,2,1,1,5,1,1,1,1,4,2,5,2,1,1,6,3,7,2,2,2,4,8,2,2,30,7,5,18,1,11,6,1,1,4,10,8,6,3,1,10,1,2,2,7,1,3,11,1,5,2,1,3,2,1,2,2,1,1,1,2,5,5,1,5,1,2,11,8,3,3,6,4,1,1,1,2,3,1,4,17,3,1,2,2,2,1,1,1,2,10,2,5,1,2,3,1,7,1,1,1,10,32,2,2,1,1,5,3,2,1,1,1,2,15,9,2,1,1,1,2,2,1,2,3,10,2,4,8,7,10,5,1,1,2,1,3,5,1,1,5,1,4,2,1,1,9,3,20,1,1,2,2,9,7,3,2,1,4,2,8,1,1,3,1,3,6,1,4,2,12,1,3,1,1,1,2,5,5,4,1,1,1,11,9,1,1,4,3,5,1,2,4,6,12,4,4,22,31,15,7,6,1,1,2,1,6,4,2,4,3,4,2,1,1,8,9,1,10,15,3,13,1,5,1,2,2,1,2,25,6,4,5,4,1,7,7,4,1,12,1,1,1,2,1,1,2,1,2,7,11,209,5,1,1,6,3,2,1,13,2,3,2,2,1,7,1,1,1,5,6,8,2,5,6,2,1,3,1,1,1,1,2,2,1,1,3,1,3,1,3,1,1,2,2,1,1,4,1,2,5,1,7,3,6,2,6,1,2,1,1,4,1,2,14,4,25,2,8,2,4,1,2,1,1,6,3,1,6,2,1,1,2,1,7,6,2,2,1,2,2,12,2,3,1,2,4,1,3,2,2,1,3,1,2,2,28,1,2,5,2,5,8,5,5,2,4,1,6,1,37,1,1,4,2,5,1,2,15,3,7,4,4,1,8,2,3,2,1,6,7,8,3,6,4,1,11,1,8,2,8,1,1,2,1,4,86,1,1,1,9,2,1,1,2,2,1,15,3,2,4,3,1,4,3,3,13,1,3,18,2,1,1,1,8,13,10,5,3,1,28,9,2,5,6,2,3,2,2,1,2,2,3,3,2,1,1,1,2,10,4,2,17,1,3,3,1,1,1,1,4,1,2,1,2,24,1,1,1,4,26,5,1,11,9,2,2,97,14,1,5,8,12,1,10,28,1,1,24,1,6,1,4,1,2,7,24,4,1,8,5,1,1,2,3,8,1,1,3,1,2,4,1,5,8,6,7,3,5,1,1,4,1,4,12,4,1,1,4,4,4,4,1,1,4,2,1,4,4,2,1,3,2,3,1,1,11,1,9,10,1,3,1,1,2,2,1,1,4,6,38,4,4,2,6,8,1,3,3,5,1,3,1,4,2,2,2,7,1,1,1,1,14,7,2,1,2,4,1,4,3,1,1,1,6,4,2,3,2,2,3,1,1,2,1,35,5,12,19,11,15,1,1,2,1,2,4,1,1,3,3,2,1,4,1,2,2,1,1,4,1,1,1,4,1,1,10,1,3,5,3,2,5,3,4,6,3,26,4,2,1,5,10,1,8,1,2,3,1,3,1,1,1,7,1,1,3,1,1,1,1,2,1,1,1,1,1,1,1,1,4,2,1,2,1,2,1,1,1,3,1,3,3,6,1,7,1,2,3,1,1,8,1,2,5,1,2,1,2,3,62,5,1,3,2,2,18,1,2,2,1,3,10,3,1,4,2,2,2,7,1,7,1,1,3,6,1,6,5,2,2,2,6,14,2,3,1,1,1,2,37,2,4,2,1,4,2,6,2,5,1,1,1,1,3,3,13,4,10,3,2,1,5,2,2,5,3,1,3,1,1,4,2,4,1,7,4,1,1,1,4,3,3,1,1,6,3,1,5,5,2,7,2,2,1,3,25,7,7,3,2,3,2,7,1,12,4,2,4,1,1,3,2,3,2,2,1,2,1,12,1,2,5,18,4,2,1,1,1,1,9,2,6,3,4,5,1,2,1,21,1,2,1,1,3,1,7,3,4,1,3,1,1,5,1,5,11,7,11,5,5,1,5,3,1,1,1,3,4,1,4,2,6,2,3,6,2,2,2,5,2,3,1,3,1,21,2,1,2,2,2,1,4,4,1,1,7,1,1,1,3,50,15,1,1,10,1,9,3,1,2,1,13,1,2,1,5,1,6,2,5,4,1,3,1,8,2,2,6,2,2,1,4,2,1,1,1,3,12,7,2,1,1,5,5,1,6,1,2,9,14,7,2,2,2,1,1,3,37,10,4,3,1,33,1,2,1,6,11,1,2,1,2,2,57,2,1,1,3,1,7,2,1,1,5,1,3,3,3,4,2,4,2,2,3,2,2,2,5,1,3,1,6,1,1,4,2,4,1,9,1,1,3,3,2,1,3,1,25,3,1,1,5,8,1,4,1,3,2,4,8,13,3,1,5,1,1,1,13,20,5,5,5,2,1,1,2,1,10,4,1,3,4,1,1,2,3,5,2,4,9,2,2,2,2,1,1,6,4,1,1,4,2,2,2,1,2,1,1,1,1,3,4,5,3,1,1,6,4,3,2,7,2,2,5,3,2,2,4,1,18,8,2,1,1,6,1,2,1,1,4,12,5,15,1,6,2,1,6,1,9,6,5,12,1,3,2,7,5,3,2,1,3,1,1,4,3,2,3,1,2,2,1,2,8,19,11,3,5,1,2,3,1,12,1,4,4,1,5,1,4,2,23,1,2,1,1,23,17,1,19,12,5,1,2,1,8,1,3,1,5,6,1,1,2,1,9,18,1,13,1,1,14,1,17,1,11,1,6,5,2,1,7,2,1,12,4,7,4,2,5,1,4,1,3,3,3,2,5,1,11,3,15,2,1,2,4,1,1,4,5,2,1,1,2,2,2,1,55,2,1,11,3,2,4,2,1,4,1,4,1,3,4,4,7,2,25,1,1,6,15,13,2,21,2,1,4,1,7,1,2,1,1,6,6,9,1,5,6,4,17,1,1,2,9,1,3,4,5,10,3,3,5,4,4,5,2,1,1,11,2,1,2,10,2,3,1,1,3,5,2,5,9,1,2,8,2,2,3,1,1,2,4,3,3,1,15,2,4,3,3,1,6,5,11,9,4,1,4,44,9,1,1,1,3,2,6,9,1,6,1,6,1,2,5,2,1,1,7,2,3,1,8,2,4,2,1,1,8,4,8,1,2,1,1,1,1,4,1,2,1,2,1,3,4,1,8,16,1,1,1,1,2,2,1,1,3,3,1,3,8,2,9,1,9,2,19,1,13,4,6,1,6,7,6,9,1,2,1,7,13,2,3,6,1,2,6,1,1,10,2,5,1,6,6,1,1,1,1,5,4,2,4,4,5,2,4,3,2,2,1,9,1,1,3,3,11,3,3,7,4,2,8,2,1,3,1,4,2,1,2,6,1,1,1,6,1,1,2,5,1,2,2,1,5,3,3,2,11,6,4,8,5,6,2,5,2,3,3,6,2,1,2,4,1,9,9,55,1,3,6,4,7,18,3,1,1,2,2,3,8,1,16,2,5,8,2,1,2,2,1,5,4,2,1,22,3,18,4,1,2,1,2,7,9,1,4,1,1,1,5,4,1,1,9,1,4,3,3,2,6,2,1,1,1,1,93,14,4,4,3,3,1,2,5,1,5,2,2,4,2,2,3,1,1,2,1,6,6,1,1,2,2,2,73,1,4,2,1,7,4,2,4,2,9,2,1,4,2,5,1,25,3,2,2,5,1,6,16,3,2,5,1,21,1,2,5,4,1,7,2,5,1,3,9,17,1,9,1,3,13,4,11,3,11,1,4,2,5,3,1,6,1,1,1,8,3,8,12,32,3,7,7,3,6,7,5,1,5,1,1,2,11,1,1,4,3,1,2,1,1,3,6,2,8,2,1,3,11,2,3,2,1,2,2,2,1,4,1,1,7,1,17,3,1,12,1,3,1,4,1,8,11,2,2,1,2,3,2,4,1,3,4,12,3,4,1,6,3,4,1,6,4,4,1,25,1,2,6,2,7,2,3,2,4,1,1,2,1,2,12,3,8,2,1,4,1,2,9,3,1,2,6,1,1,1,1,1,1,2,2,1,20,2,4,6,9,1,5,2,2,7,1,4,201,2,4,2,4,2,2,2,1,1,1,3,5,1,2,1,8,3,12,1,2,6,1,1,11,1,1,1,3,4,2,9,1,5,1,2,1,1,1,4,3,1,3,1,1,7,5,1,2,2,2,1,2,3,2,1,4,1,28,1,1,3,1,2,2,1,1,3,1,9,4,11,10,1,3,4,4,2,4,3,10,8,1,3,6,47,1,1,1,17,2,15,1,4,1,3,3,1,3,2,2,11,9,4,48,4,1,4,1,3,2,1,1,2,3,1,1,1,32,4,5,1,1,2,6,1,1,2,6,4,1,1,3,1,3,2,2,2,7,5,6,4,1,4,3,3,10,1,4,5,1,1,1,2,3,2,2,15,1,4,11,1,5,3,8,1,4,2,7,1,1,17,4,2,1,1,1,10,13,1,1,3,3,1,30,1,2,3,1,1,1,1,5,1,1,1,5,1,3,2,2,1,2,16,41,3,1,15,1,3,2,4,5,6,1,2,4,5,1,2,1,2,8,3,1,11,1,6,1,1,2,2,1,1,5,4,2,2,1,12,1,4,3,2,5,8,1,2,3,2,1,13,11,2,5,1,1,1,1,2,7,1,1,1,1,2,1,5,1,7,15,2,2,1,1,1,1,1,9,1,2,5,3,18,15,1,6,3,12,7,1,12,1,8,3,1,1,91,4,1,1,2,1,1,1,1,3,1,1,1,1,3,2,4,1,3,1,2,1,1,1,3,1,1,1,1,2,1,7,2,2,10,22,1,1,1,2,7,2,4,1,7,1,12,1,3,7,5,2,6,2,1,1,1,1,4,2,4,1,1,1,2,3,5,2,1,2,4,1,8,4,1,3,1,4,1,1,4,2,1,2,5,3,1,2,1,2,5,1,3,1,1,3,1,7,2,1,1,1,3,1,3,7,1,3,1,1,1,3,1,1,18,1,3,2,2,1,1,7,1,2,1,12,4,4,3,1,3,6,2,5,2,2,27,4,12,1,1,5,3,1,6,1,5,2,19,11,3,1,8,1,8,2,1,1,3,2,8,1,11,4,2,4,3,4,1,1,1,1,1,9,2,14,3,4,1,1,1,1,16,1,1,4,1,4,2,1,3,5,12,4,7,2,4,1,3,1,2,13,3,4,1,4,3,1,1,5,5,1,1,2,14,9,1,1,5,9,1,4,1,1,13,2,23,4,1,3,4,9,1,4,4,2,9,2,8,1,2,1,1,15,4,3,4,1,3,2,2,3,1,2,2,1,4,1,5,1,9,2,1,1,2,1,1,4,1,7,4,5,3,3,1,1,4,3,5,1,9,2,2,1,1,14,2,8,1,2,4,1,4,1,4,4,7,1,5,2,2,4,1,13,1,1,5,1,2,1,7,1,3,2,1,2,8,16,1,1,4,1,4,1,3,1,3,8,7,1,3,6,4,2,1,3,2,2,6,1,3,26,1,1,1,1,4,3,3,3,1,5,3,3,1,1,2,3,1,8,4,3,2,3,1,1,13,17,3,3,4,5,4,6,5,2,4,5,4,1,2,2,1,1,3,14,2,1,3,1,4,4,1,1,19,3,2,4,1,1,8,2,2,2,1,12,5,27,1,5,8,8,4,2,6,3,1,15,2,1,2,7,2,1,5,4,2,3,1,1,2,1,2,1,2,5,1,1,3,7,1,7,3,1,8,2,8,1,2,2,4,1,1,1,1,1,8,3,2,1,5,15,1,1,1,1,1,2,2,4,2,4,8,14,1,1,2,4,2,3,1,12,1,7,1,2,2,1,3,8,4,10,2,1,7,1,2,1,7,1,6,5,3,5,4,1,4,3,4,3,16,3,47,3,3,8,1,2,9,3,1,3,1,1,1,6,63,1,2,20,3,2,3,3,3,3,5,4,4,2,3,1,1,2,1,1,1,7,6,4,1,1,5,2,1,1,1,10,1,3,2,5,2,1,5,5,2,3,1,4,1,1,7,3,1,3,6,1,1,1,7,1,2,3,4,1,1,8,1,1,2,4,2,4,1,1,1,4,1,5,6,33,2,1,3,3,2,1,1,6,1,11,3,1,1,2,5,1,5,9,3,1,2,19,1,2,3,27,4,6,1,5,6,3,4,1,1,1,8,1,4,1,6,2,12,15,4,2,1,13,1,1,2,4,1,4,1,4,4,1,2,5,18,1,2,1,3,1,1,2,7,3,1,4,5,3,1,2,2,4,3,5,1,2,2,13,7,2,2,3,1,1,5,2,2,8,1,1,5,1,4,9,7,2,1,5,1,1,1,1,1,3,1,1,5,2,1,1,10,4,1,3,1,3,1,6,4,2,2,2,1,8,3,1,1,2,5,2,1,3,3,14,6,3,7,22,1,1,1,1,4,4,2,1,1,2,7,1,4,1,2,23,2,3,3,4,9,6,4,5,1,2,9,1,2,2,3,4,2,2,2,1,3,4,1,2,2,3,2,1,4,1,13,5,5,2,2,1,12,2,1,1,2,1,10,5,2,1,1,2,1,3,3,6,51,1,1,1,10,2,1,1,3,1,1,7,5,5,2,3,4,1,2,1,1,2,1,1,2,7,5,1,18,3,1,3,4,3,7,1,4,4,1,3,7,4,7,3,2,1,1,1,2,1,3,1,4,1,3,3,6,2,2,6,4,1,1,2,1,1,3,4,5,1,1,2,2,3,21,26,1,1,1,1,7,3,3,1,1,4,1,1,2,10,5,3,2,12,3,2,7,2,20,2,2,1,1,5,2,1,10,3,3,2,1,1,1,1,2,1,1,3,1,16,3,1,1,2,1,1,6,1,1,2,14,7,1,1,4,1,1,2,1,5,1,2,4,1,2,1,17,1,5,2,6,2,4,10,3,1,2,1,2,2,1,1,7,2,4,6,15,4,1,1,4,1,1,2,6,3,11,3,20,2,4,12,1,1,6,5,28,2,7,4,2,2,2,2,4,1,2,13,13,20,3,1,5,10,5,11,15,3,1,2,6,1,7,1,1,13,2,7,5,1,4,21,3,1,3,5,1,1,1,1,7,7,17,18,2,5,5,1,1,1,1,3,1,1,1,3,1,3,1,13,1,2,11,3,1,5,5,1,4,11,1,2,2,22,2,1,13,1,2,1,6,7,2,1,10,1,1,1,4,1,3,2,4,3,2,5,1,2,1,10,21,4,9,11,1,1,2,2,1,2,1,1,3,4,1,2,2,11,2,34,6,3,16,1,1,1,1,1,3,2,2,1,1,2,2,2,3,4,6,3,6,5,6,1,7,1,3,2,2,3,1,3,5,5,1,1,2,3,6,3,1,1,16,7,4,5,1,8,11,1,1,6,2,1,6,11,1,19,3,1,3,17,7,3,21,1,2,2,1,4,3,9,3,19,1,3,6,3,3,2,1,9,4,1,2,1,3,1,1,1,7,1,2,3,1,1,1,6,2,1,7,2,10,2,7,1,6,1,5,6,3,4,2,11,3,2,4,6,1,1,3,3,20,2,4,1,3,3,2,6,2,1,2,3,3,2,1,1,1,3,5,4,1,3,1,3,3,9,6,1,1,1,5,3,5,1,11,4,7,3,21,9,1,9,4,4,3,2,1,2,2,2,3,2,5,6,4,7,9,4,1,3,4,8,2,4,1,2,6,6,1,1,8,3,1,1,2,1,1,1,1,1,5,1,5,7,2,7,1,12,1,1,2,3,4,1,3,1,1,2,2,3,3,6,10,2,7,1,2,2,1,1,8,1,4,1,3,4,2,6,2,1,7,2,2,7,7,2,1,3,1,6,4,1,1,8,1,7,6,1,10,1,14,2,1,2,1,6,8,2,8,10,2,1,1,2,6,2,17,1,2,26,1,1,1,1,2,1,2,1,2,2,2,2,5,1,2,3,2,4,4,1,2,1,1,3,6,1,7,7,3,2,1,9,3,1,2,4,1,5,1,19,1,2,3,1,8,38,3,3,2,7,4,1,2,2,1,1,2,4,8,2,11,3,1,1,4,15,1,5,1,4,3,2,1,1,2,2,1,3,3,2,11,8,1,8,4,3,8,4,2,3,2,20,1,29,1,1,2,1,6,2,4,34,2,2,1,8,2,3,5,13,1,15,3,3,1,2,5,3,7,2,1,7,2,12,3,6,2,2,6,1,28,3,2,1,2,1,7,2,1,3,6,1,3,2,2,7,46,7,2,4,1,1,5,1,2,6,3,2,5,1,2,2,5,5,3,1,1,4,3,1,2,7,10,1,2,1,1,1,3,2,4,2,9,2,1,2,1,8,1,31,10,1,1,4,5,1,6,1,3,5,4,1,1,4,4,8,10,1,1,1,1,2,1,2,1,3,1,2,3,1,4,1,5,2,1,3,4,1,7,3,2,8,1,4,4,3,1,19,1,3,3,25,1,2,4,3,4,3,7,5,2,2,7,1,1,1,6,1,2,2,5,15,6,14,1,3,3,3,1,1,3,1,2,4,1,8,2,3,4,9,1,2,1,1,2,1,11,3,1,4,1,1,10,12,4,1,7,5,2,12,1,7,2,2,5,2,7,1,4,2,6,2,31,6,30,1,2,1,6,1,7,7,15,2,4,1,1,2,8,1,1,4,1,4,3,2,9,17,2,2,1,2,1,1,1,11,1,15,4,4,6,3,11,1,3,13,4,1,2,3,19,3,2,4,7,2,6,1,1,2,9,1,5,30,8,3,2,1,1,2,3,1,3,10,5,2,2,4,1,3,3,2,2,1,2,4,2,1,14,1,1,2,4,3,10,9,3,1,1,12,39,4,5,4,3,7,1,5,4,1,3,1,1,3,1,8,5,1,124,1,1,1,9,4,34,2,2,1,4,23,12,1,1,8,1,6,3,20,1,6,5,12,1,5,6,1,1,1,1,1,4,4,1,3,1,8,2,2,1,3,1,8,1,1,3,2,1,2,1,1,4,1,1,1,5,2,1,3,1,17,4,1,7,1,2,2,4,5,2,3,2,2,1,7,1,10,1,1,2,1,1,45,3,3,12,4,1,1,1,1,39,1,2,14,5,1,1,2,1,1,1,3,13,1,1,1,4,3,1,1,1,1,7,3,2,4,1,8,2,2,1,2,1,9,1,1,1,2,1,1,5,3,2,1,1,2,1,2,1,1,2,3,3,6,2,21,1,3,10,1,2,1,1,10,1,1,3,10,3,2,14,1,1,1,5,2,1,12,1,10,11,2,4,2,3,1,1,2,1,2,1,11,4,7,2,3,6,1,2,60,1,1,1,1,26,1,2,1,1,8,1,26,1,1,2,6,2,4,1,3,1,3,1,5,3,1,6,2,2,12,4,2,2,3,3,2,2,3,2,2,1,2,5,1,1,3,6,1,3,5,20,4,1,1,6,4,6,6,1,2,1,1,3,2,2,1,1,1,1,2,17,1,3,1,3,2,1,6,5,1,1,1,1,2,2,10,1,5,1,14,1,12,11,1,2,20,7,5,4,1,3,6,5,5,1,17,4,7,2,2,1,1,1,2,1,8,3,6,2,1,3,2,1,1,2,6,3,1,1,1,1,1,1,2,16,3],\"z\":[77183.6,4310.0,1797.24,1757.55,334.4,2506.04,89.0,1079.4,459.4,2811.43,6207.67,1168.06,6372.58,2662.06,189.9,5226.23,552.0,1313.1,641.38,168.9,3545.69,1887.96,1298.04,364.6,742.9300000000001,457.5,1628.12,4008.62,852.24,2724.81,1845.31,1850.56,585.27,401.9,2780.66,549.84,460.89,1582.6000000000001,1272.48,3018.63,2409.9,1635.6599999999999,1108.65,84.3,225.6,427.7,1710.39,3415.3,1708.1200000000001,2888.55,11072.67,693.3299999999999,1226.88,758.1,562.41,124914.53,3649.1,668.58,600.39,807.04,803.5600000000001,1859.31,1760.96,777.2,582.73,825.8,7956.46,3750.4,256.4,6487.45,5059.32,13375.87,806.14,7829.89,509.01,4951.41,2906.85,173.55,172.06,5005.46,133.4,1002.3100000000001,476.49,449.45,4067.29,197.88,9035.52,430.57,707.09,3528.34,2466.86,3181.04,2363.23,947.4,826.88,1189.59,1344.78,1212.05,742.1899999999999,729.5400000000001,19824.05,6572.11,3938.5499999999997,7375.79,723.38,6816.42,13219.74,680.99,527.2,3281.63,5596.32,2484.98,4541.72,1298.66,334.93,5417.93,460.40000000000003,263.21000000000004,433.74,1246.1000000000001,1043.1,403.70000000000005,4257.82,2169.39,3723.87,482.04999999999995,73.5,1304.81,398.27,176.5,982.5699999999999,138.03,612.29,1017.68,383.7,1312.06,2502.84,2056.89,340.84,2634.26,599.68,192.72,1789.77,4485.72,1316.66,348.71000000000004,1933.48,1662.28,125.22,349.83000000000004,1089.18,716.35,12601.830000000002,363.95,5568.35,13400.24,981.18,372.7,1000.39,1161.5,207.79999999999998,95.19999999999999,964.83,168.0,437.82,3692.28,603.71,11990.960000000001,269.96,561.71,2134.01,238.85,3781.7400000000002,456.9,145.92,351.65,9401.28,4124.69,519.61,1020.42,160.54000000000002,218.45,1315.83,657.8,2794.51,440.42,415.7,197.71,511.36,7281.38,2338.15,2040.1,196.94000000000003,144.0,214.89999999999998,646.68,9864.26,452.84999999999997,437.6,418.09999999999997,3338.2200000000003,618.27,3811.22,3023.08,1032.58,2599.04,577.0600000000001,153.12,739.1999999999999,254.18,1579.51,1126.85,2099.54,1193.32,704.0400000000001,3344.38,315.6,2291.19,713.3,355.53,177.31,3641.24,1339.41,13689.67,180.1,305.1,641.13,2683.82,6620.48,4478.53,786.46,1270.88,640.5,2163.98,1689.18,6021.9,671.69,486.1,1174.58,185.9,1013.26,3344.64,477.91,1775.18,1346.97,3722.82,318.05,623.51,314.44,114.0,919.98,2209.85,601.98,4051.17,1643.18,686.05,91.68,245.1,3849.78,4881.88,63.0,620.13,3807.15,2744.0299999999997,2996.05,225.89999999999998,610.52,1970.6,1331.39,17628.46,1113.02,862.81,13787.54,12288.22,8476.57,2283.63,2863.08,89.14,4873.8099999999995,1247.61,389.01,1035.8,855.91,869.67,582.1,957.59,4939.99,797.71,219.0,283.55,2340.84,6868.29,603.42,2712.91,9736.52,1149.02,4396.13,848.55,4708.86,353.86,1053.49,1030.98,238.25,644.95,5781.73,2656.13,997.63,725.07,1031.41,427.8,2609.1,3980.7,836.33,453.01,18895.91,236.26000000000002,383.95,110.39999999999999,779.5699999999999,234.0,155.35,1013.04,427.6,546.43,21279.29,4196.01,33719.73,4090.88,275.88,4366.78,21429.39,3010.74,3811.95,112.07999999999998,7857.1,2791.59,1531.44,1898.52,494.08,1693.88,6989.63,1143.6,1351.45,892.47,1386.04,822.23,3981.36,826.74,2330.92,2225.91,574.42,311.95,463.66,91.85,324.92,192.60000000000002,400.53999999999996,545.48,860.41,430.48,254.03,6977.04,427.58,483.65000000000003,489.31,514.85,229.64000000000001,125.92,1063.46,572.2,166.04,1542.08,942.34,92.72,948.88,1759.5,397.12,1474.72,430.15000000000003,1018.71,293.0,6814.64,215.05,383.03,417.38,312.38,2612.86,134.1,683.13,5591.42,2726.77,4022.35,1118.99,1702.26,325.96000000000004,354.09,871.54,1050.8899999999999,135.18,311.55,1957.1000000000001,1324.5,38.1,2179.93,1106.4,521.2,147.12,1568.23,559.12,4036.82,1607.0600000000002,380.64,599.97,374.0,343.2300000000001,2218.02,1535.77,854.99,573.22,298.0,1463.04,703.47,309.05,1175.22,1378.4,354.12,380.46999999999997,331.0,188.14,372.8,216.5,17654.54,138.68,509.58,2919.81,750.0,2178.67,3075.04,1662.3,2483.63,363.65,3006.15,594.0,1335.19,164.23,16587.09,405.38,176.97,933.7,694.05,2062.7000000000003,117.85,415.8,42055.96,607.53,2160.7,1063.9,1504.27,114.14,11581.8,913.54,683.9,604.51,462.95,1603.99,2064.95,4167.22,1843.0,1064.07,1387.79,329.85,4757.16,108.07,4017.54,266.39,1856.63,771.91,160.18,1660.9,135.95,452.24,11189.91,144.8,738.6,39.239999999999995,7374.900000000001,372.21999999999997,390.54,97.5,1239.38,558.7,535.32,6924.110000000001,409.5,503.76,414.76,974.4200000000001,211.32,1226.89,455.88,534.85,9818.82,120.94999999999999,149.05,5655.91,513.7,81.57,229.46999999999997,50.550000000000004,1661.8400000000001,4810.9400000000005,3466.2799999999997,3346.28,789.89,204.0,7277.7,2616.38,689.9,975.36,6912.0,661.3199999999999,1247.5,799.48,1010.18,190.55,642.77,921.88,881.07,908.46,676.99,516.42,560.47,305.28000000000003,629.31,3237.54,1835.91,656.6800000000001,5836.86,348.15000000000003,1214.41,271.40000000000003,183.4,307.53,248.61,346.98,1119.49,205.86,470.8,115.46000000000001,344.0,4436.12,228.8,177.15,919.61,729.27,12627.94,220.10000000000002,58.08,28337.38,3613.63,303.75,416.08000000000004,58825.83,8910.82,345.82,477.83,7832.47,1927.3200000000002,74.39999999999999,6010.42,28882.44,207.35999999999999,101.19,6424.09,243.94,1098.48,76.5,1531.6200000000001,350.06,786.54,1488.67,12245.960000000001,2294.78,501.14,984.91,1197.81,30.599999999999998,283.73,922.39,3866.33,2099.64,259.17,64.0,1073.3,77.3,109.8,1793.58,3096.0,2607.61,3650.41,962.39,5064.94,423.72,2388.75,307.09,110.95,618.52,228.91,712.8000000000001,3707.12,1676.06,1257.8700000000001,486.22,971.76,1741.22,1201.06,1437.85,91.8,112.75,1688.29,1021.48,417.2,791.33,1319.19,712.88,116.00999999999999,468.41,353.65,2817.03,492.84,282.45,5725.47,121.18,3957.78,1701.29,71.4,1575.89,236.02,114.60000000000001,260.68,911.94,117.88,60.7,1797.78,3401.2400000000002,9817.12,870.09,869.46,250.26000000000002,1223.9,5891.61,353.48,1197.42,788.08,1520.58,333.74,533.98,62.63999999999999,819.2900000000001,847.41,163.20000000000002,2155.95,6463.84,108.21000000000001,257.7,358.0,160.95,2806.97,1357.6,605.12,1031.07,744.85,700.73,329.56,663.65,270.40000000000003,600.07,121.74000000000001,430.5,1987.3,501.12,465.68,711.41,1030.4,399.51,698.58,292.32,557.62,944.1,200.29,7454.07,2107.66,3834.2599999999998,4521.49,3214.69,5346.2300000000005,590.0,217.38,276.56,138.98,590.9300000000001,258.4,542.73,137.75,814.86,1132.14,93.66,201.19,2709.12,361.11,578.9399999999999,873.74,201.20000000000002,87.4,2089.85,360.0,142.5,371.89,618.09,63.75,300.42,2000.86,15.0,1385.51,1456.79,1132.03,598.57,1555.32,775.94,5977.7300000000005,2273.68,640.76,10845.550000000001,1548.7,567.36,199.48000000000002,787.85,7121.95,675.3,3627.77,1308.48,789.0,1140.93,350.9,3536.82,795.12,487.02,860.12,10736.48,775.85,353.43,2543.72,389.5,341.36,233.76,247.32,979.12,373.94,397.97999999999996,743.53,674.7,768.24,609.95,439.03,439.56,3090.7400000000002,992.5,134.95999999999998,2225.37,56.160000000000004,623.4,308.28000000000003,754.87,378.64,3312.25,778.65,1019.76,572.56,3639.31,222.99,4151.93,534.57,677.1,797.96,544.08,59.8,2520.02,307.72,1360.99,1544.13,457.34,621.23,75.0,252.49,572.451,28117.04,1003.06,213.55,1390.5,712.5,640.83,6127.43,221.06,159.85,1851.08,2626.3,1624.21,3641.32,582.6,218.47,1006.8,679.45,1269.1,534.24,3809.8900000000003,196.89,3408.06,283.71,296.64,1129.14,3539.37,291.88,2043.7199999999998,2976.15,590.0,356.97999999999996,1058.34,1766.72,9646.57,183.44,1445.0,151.5,674.68,307.9,1083.71,5704.97,165.0,2531.58,422.64,229.59,1431.78,1238.47,1454.58,300.95,1804.56,184.64,140.34,313.8,454.24,1122.41,575.4,8968.31,449.52,1215.82,1269.84,618.63,316.26000000000005,2044.8700000000001,653.33,348.05,1159.11,1166.77,1340.32,292.0,216.85,295.93,4393.63,458.52,2479.16,110.97,979.72,1791.56,251.21,205.1,152.20000000000002,891.12,1389.41,2128.42,659.4399999999999,122.75,3624.35,1093.65,125.80000000000001,3964.88,680.1800000000001,628.78,2287.51,307.76,483.8,210.31,270.79,5870.08,3448.29,1280.85,631.34,291.41,626.99,682.41,918.2,91.80000000000001,3740.07,4149.28,584.06,605.06,174.37,141.85999999999999,1799.33,777.53,1749.02,240.22,874.71,192.85,373.75,239.49,2092.32,1384.25,294.4,732.0699999999999,6717.34,1687.6000000000001,467.04,118.0,781.03,142.4,712.4,2478.95,379.65,1981.92,1117.13,247.95999999999998,2037.0800000000002,396.97,697.04,180.17000000000002,5153.67,219.52,693.32,428.89,164.34,280.53999999999996,678.01,1131.88,1171.8,1610.46,417.69,544.18,177.34,213.85,747.78,257.23,1638.47,7792.36,2031.78,3070.42,2121.27,1575.16,1071.03,949.12,810.5,122.64,1033.34,354.8,519.44,2624.26,252.1,1678.1200000000001,346.6,1836.34,94.2,1095.08,2707.33,932.97,379.65,382.14,2639.17,1573.2,897.76,189.47,84.65,305.02,6363.59,218.55,349.7,186.39000000000001,396.92,486.82000000000005,232.6,3722.42,827.83,59.5,67.23,3119.44,72.0,910.0,172.25,1488.32,65039.62,2504.13,151.29999999999998,308.58000000000004,2265.12,99.5,2308.06,711.86,330.79,806.41,296.88,6328.05,180.48,252.06,228.84,1079.34,138.28,1445.01,306.55,1041.68,799.9,524.14,2375.41,199.85000000000002,1980.56,1079.6599999999999,333.48,1016.14,752.6,610.59,491.86,2885.2400000000002,731.9,339.59999999999997,216.9,350.75,668.4300000000001,3131.02,1341.6,1156.36,300.04,79.6,948.25,1647.26,296.25,1186.28,741.26,282.59999999999997,2161.35,5189.52,3190.55,659.4100000000001,286.79,1070.65,306.72,1714.96,1521.76,17220.36,2796.51,2634.45,1132.13,345.0,25977.16,178.7,360.01,127.84,912.0,2462.79,230.39999999999998,309.04,348.8,1516.0,195.55,37153.85,688.86,558.32,324.8,4599.42,277.07,2635.79,924.6,256.38,112.6,1747.66,155.05,1499.01,814.5,539.0,1366.8600000000001,1579.12,4027.36,571.6700000000001,382.98,1140.35,385.64,632.0,957.66,1698.94,189.5,412.05,209.49,2202.99,52.199999999999996,384.8,834.57,271.24,691.73,85.0,3385.62,361.62,312.98,865.0600000000001,1255.0,1537.95,1595.48,2651.46,1090.14,8109.5199999999995,388.5,216.17,201.16,1245.9,2209.36,305.78,501.56,145.67000000000002,1015.29,3192.54,3104.95,2770.94,6403.25,389.6,540.45,1786.79,122.7,117.24,1281.53,3219.77,17159.52,1191.13,2674.48,787.6,506.8,243.56,349.55,605.63,416.90000000000003,1883.8100000000002,632.97,821.1,564.62,2593.07,311.16,155.93,388.52,740.95,2867.2,332.64,2369.55,2580.91,626.45,272.04,1212.8400000000001,384.81,172.25,351.13,1838.8500000000001,678.25,223.85000000000002,348.99,464.57,842.65,337.34,1237.53,307.4,608.7900000000001,922.1,376.58,158.85,71.66,568.55,839.14,5112.96,561.5699999999999,90.6,102.0,2427.32,745.06,674.45,3251.071,3515.68,439.92,322.96,1026.42,598.2,230.22,169.55,664.54,80.7,9053.94,2758.26,190.25,264.7,413.59000000000003,2526.28,357.98,196.79000000000002,869.87,200.14,1871.81,2603.43,920.51,7060.13,320.46,4147.96,1266.08,311.3,855.97,76.8,3466.36,2313.14,1393.69,3901.81,635.66,2043.0800000000002,529.73,4582.64,2874.72,962.19,695.61,328.8,473.02,505.18,917.34,4341.21,1421.61,642.8,631.9,440.0,584.07,327.7,104.82,467.66,2360.09,17286.86,2975.59,651.8199999999999,1428.02,626.65,147.20000000000002,1560.38,152.2,3614.92,141.41,652.82,1659.75,154.99,1308.6100000000001,409.93,5681.72,746.36,15610.390000000001,225.36,260.25,92.46,725.6400000000001,8214.65,6217.96,183.6,6140.42,10464.85,1353.74,152.55,374.7,265.85,1438.82,151.04,942.26,122.47,499.41999999999996,1049.37,375.1,45.599999999999994,934.52,182.25,1018.43,4448.54,194.42,50491.81,161.0,76.32000000000001,4076.91,442.85,65164.79,147.35,3104.17,194.9,5976.79,1360.28,216.20999999999998,1266.23,2703.23,597.91,144.2,5683.15,692.85,2915.15,1840.42,386.53,1382.74,90.0,2780.15,419.58000000000004,2740.43,706.1300000000001,709.71,637.5,1123.8600000000001,483.86,3586.0299999999997,605.64,4690.31,982.3800000000001,415.82,935.05,915.13,311.81,115.8,3742.2,4191.0,483.4,157.2,446.62,658.64,621.29,1345.62,118.75,117379.63,432.88,507.66,4693.01,1110.52,289.36,2445.91,1631.77,122.53999999999999,574.84,363.79,450.84,134.46,3222.3,576.9000000000001,559.41,1620.93,719.78,4748.52,452.89,197.65,2054.36,4654.08,4684.76,853.39,11349.52,1012.0,335.52,701.4,185.39999999999998,747.44,161.03,466.7,328.15999999999997,151.74,2073.43,1905.8400000000001,2241.1,1070.48,1004.38,1789.72,1839.3,2004.98,169.48000000000002,89.94,632.4,3432.8,683.17,991.13,1050.12,2232.19,3350.96,1547.2,925.71,2048.07,1462.72,775.46,3144.86,490.86,161.0,146.85,2380.85,890.34,213.70000000000002,280.55,2588.77,1693.45,1474.06,136.76999999999998,302.58,1904.05,2879.7000000000003,969.0600000000001,3099.7200000000003,12669.98,120.0,1163.45,2618.23,333.97,530.18,1516.24,492.65000000000003,112.32,437.96,559.97,1119.74,4216.2,134.04,3729.34,595.25,1910.01,4628.75,176.63,426.6,911.26,2314.65,3883.25,4871.93,1046.56,166.20000000000002,1305.33,51527.3,3965.62,43.2,640.14,383.45,1858.96,2093.32,2995.72,2352.53,310.26,1611.59,120.0,2481.13,508.58000000000004,477.79,1530.75,605.0600000000001,183.85,311.65,5014.84,462.65999999999997,866.31,415.2,2552.21,468.26,1614.91,588.22,309.52,134.7,2182.28,668.5600000000001,889.9300000000001,108.97999999999999,1021.58,409.57,133.5,282.93,51.0,1078.96,90.6,163.62,174.4,701.23,225.77,912.18,2128.23,161.2,3717.35,9261.52,155.0,100.5,76.55,257.68,617.05,348.1,202.68,626.0699999999999,1247.69,202.11,142.4,1770.56,3212.84,1043.46,4652.82,67.95,3507.71,487.99,2612.96,574.7,4051.48,1475.81,1474.32,156.75,2157.73,2606.53,2059.4500000000003,1105.07,1063.0,770.03,122.7,1496.98,5900.28,490.22,1937.25,1058.06,387.52,813.11,4263.64,265.2,322.08,4481.67,363.34000000000003,1244.83,470.36,2255.51,1372.8,89.06,63.0,131.9,2661.24,2357.6800000000003,1712.89,1589.82,1420.2,1039.58,1163.23,375.35,907.1,483.25,662.59,264.44,119.93,3062.4,113.64,1837.92,434.34,2103.06,2004.02,529.62,1058.6200000000001,2272.4,598.76,461.19,1936.84,234.34000000000003,547.66,925.85,215.7,1309.6,316.25,279.05,636.51,2068.15,137.1,321.92,165.75,1196.33,1064.28,463.38,340.93,2383.2400000000002,139.56,123.8,538.8100000000001,475.37,1957.32,815.32,356.85,251.21,2470.67,3543.26,673.26,5905.64,2012.17,1383.18,276.42,1314.81,275.28,455.59000000000003,1055.35,2102.09,330.45,174.37,270.6,974.54,241.09,1867.68,4332.2,8508.82,364.21999999999997,620.04,2925.91,932.85,1949.72,4447.05,2864.19,171.8,355.56,388.25,537.48,996.26,1461.65,103.25,3630.33,2024.45,2578.09,4007.54,652.8,289.24,765.62,186.23,165.07,859.27,2381.04,324.14,788.38,2237.77,1080.76,5074.77,3099.12,1432.0,1530.3600000000001,227.39,218.06,2832.84,1653.42,35.400000000000006,859.71,168.63,138.6,114.11,1052.55,1042.26,157.05,237.36,1601.14,39.75,1447.14,570.46,617.99,379.83,1740.6,883.15,221.97,393.33000000000004,213.96,660.0,12156.65,16569.5,1785.15,601.56,406.08000000000004,553.44,394.44,412.78000000000003,1788.3600000000001,320.58000000000004,889.25,225.85,899.63,2791.27,671.96,959.01,1006.98,114.56,344.90000000000003,609.85,443.6,2984.49,2125.08,110.46,96.12,693.8100000000001,830.76,597.09,280206.02,243.22,1417.29,654.6,114.18,1947.55,1932.23,291.05,848.22,247.15,2529.93,285.74,107.95,771.17,637.89,1835.7,195.25,9241.2,1269.99,411.53,765.55,1736.4,604.75,2548.2400000000002,28754.11,498.95,52.0,1236.28,628.38,5630.87,112.8,371.7,2114.33,591.55,172.9,2078.95,188.60999999999999,1250.76,109.13000000000001,2235.3,2549.37,3292.14,318.17,1546.91,179.0,1126.37,4921.04,606.13,2868.8,917.07,2666.36,160.19,867.38,329.68,1602.13,663.81,187.92000000000002,1158.3,718.08,268.58,313.49,2005.06,380.02,2702.4900000000002,9585.91,6065.69,1164.55,1314.45,3902.28,1448.21,1400.34,1099.98,1220.26,328.2,1415.75,389.64,563.15,638.05,5010.28,738.96,420.5,1484.06,1625.97,89.2,255.9,300.52,278.3,254.11,2473.37,192.60000000000002,10674.75,876.42,139.26,1011.9,2538.3,730.86,386.15,447.68,200.10000000000002,289.99,77.4,679.4399999999999,197.64,745.06,6.2,228.99,1319.91,131.45000000000002,8022.49,173.74,157.7,4339.74,193.14,845.55,353.27,554.65,193.39000000000001,2741.17,2087.88,155.43,778.5,271.85,1110.34,657.8,272.07,507.29,48.800000000000004,321.43,1127.71,2226.91,2139.76,697.55,197.13,1720.3,102.44999999999999,1649.5,62.85,3295.76,2824.69,3189.81,309.4,7930.54,325.75,511.35,2836.69,475.8,2759.83,645.65,1311.3799999999999,1173.12,1353.74,170.32,125.79,841.1999999999999,266.76,52.2,14389.9,710.28,2953.59,725.7,327.25,522.38,519.68,1465.3200000000002,1485.54,706.19,255.4,589.7,761.59,765.3199999999999,364.8,1862.0,369.2,135.9,125.65,554.38,1237.8500000000001,655.75,11138.710000000001,468.77000000000004,1366.38,1303.52,1421.29,332.66,2810.63,1025.44,616.15,3501.1,277.8,434.35,143825.06,867.85,1227.43,307.48,1268.98,1610.15,977.77,1316.07,749.1,310.05,223.88,2372.86,1257.68,363.53,1890.94,1784.71,8137.02,1621.88,5900.25,100.9,290.82,1101.97,371.2,311.69,8099.49,289.82,336.17,58.49,499.68,695.42,221.27,7044.68,126.7,1487.8,206.21,599.0,191.32,463.8,147.59,1592.06,1116.57,114.77,1314.45,114.39,279.94,790.86,1931.42,102.12,213.27,296.75,326.4,334.54,233.23000000000002,546.1999999999999,429.87,490.52,1641.76,1246.32,6316.57,502.09,156.91,1261.78,308.94,423.04,260.17,170.04,125.58,496.21000000000004,266.0,1914.82,905.04,6802.76,1661.33,377.01,469.0,1066.1499999999999,627.13,518.28,668.14,4959.1,2586.67,4308.61,252.73000000000002,465.55,705.49,19914.44,180.35,135.93,537.0,7700.2300000000005,735.66,5213.7699999999995,343.62,384.05,121.17000000000002,1782.09,1391.61,215.78,697.79,302.1,1489.5,2124.9900000000002,1337.72,303.09,54534.14,987.86,370.79999999999995,3158.13,893.59,1744.76,553.36,1109.53,106.2,982.07,1043.41,748.87,773.03,880.85,9743.11,895.61,504.8,88.2,306.94,1160.07,2420.84,381.32,480.71,457.81,4597.02,1370.6,219.39000000000001,248.08,39916.5,410.48,876.0,317.53,703.36,1027.44,2298.93,1422.52,319.5,1300.25,484.95,996.1,1567.48,3609.33,2760.56,340.11,1352.75,1551.78,244.8,266.4,358.82,457.72,1633.78,2199.31,184.19,11528.48,406.53,1471.0,3447.4,330.11,977.9300000000001,982.42,1387.99,139.05,1286.7,178.96,2354.25,498.74,259.45,6580.44,1194.73,1327.16,623.5,301.29,520.8000000000001,5314.47,4745.69,329.25,296.42,961.49,1936.07,401.40000000000003,18641.010000000002,158.16,304.47,843.05,487.75,163.0,106.56,1289.5,1624.05,135.75,224.14,40.5,2206.95,87.5,689.4799999999999,622.85,406.76,310.62,411.41,4777.18,16225.39,1044.32,499.32,7616.53,3861.0,1079.6100000000001,193.64,1268.7,1236.54,1827.8,316.58,653.24,420.29999999999995,870.12,331.18,894.4100000000001,101.8,328.35,1661.44,734.94,96.6,5756.89,305.75,1778.96,403.25,585.0,755.75,322.08,409.40000000000003,154.41,1219.4,3386.71,429.6,612.06,197.0,2247.51,321.05,1412.32,1071.99,780.59,1706.57,1756.44,316.68,631.57,2515.84,514.15,356.0,6688.46,10484.99,740.78,918.1999999999999,300.36,890.85,98.45,317.15,623.16,1810.77,254.82,178.95000000000002,156.51,393.74,1506.1200000000001,119.3,1717.36,408.8,2379.49,2507.07,721.94,716.57,615.14,135.31,255.89999999999998,290.51,113.12,2332.15,240.55,486.69,2306.52,939.78,7943.22,4668.3,180.94,3672.86,641.94,4799.9,4507.01,496.44,5070.35,574.02,694.4000000000001,1174.35,205.3,310.47,60767.9,924.85,52.0,327.97,570.5,165.0,312.62,204.5,267.13,2748.31,679.68,162.29,311.71,208.75,1049.7,714.96,1661.06,1028.56,351.67,173.97,574.07,2020.52,406.09,364.5,563.94,393.54,252.42000000000002,201.60000000000002,158.04,473.81,115.65,1960.1100000000001,777.02,277.05,2766.5,8347.2,427.93,418.92,326.0,913.19,2314.32,602.51,1877.59,446.94000000000005,2386.05,2007.3999999999999,2415.91,168.0,1233.3600000000001,3703.29,1690.2600000000002,596.85,5955.71,642.41,316.88,394.14,140.54,500.0,1535.53,231.86,2183.54,107.45,288.18,94.0,1345.53,815.77,716.2,626.77,349.1,510.71000000000004,1056.44,267.18,3450.84,1358.88,190.53,774.9000000000001,572.8100000000001,3984.32,508.8,135.86,950.36,97.7,43.5,383.34,1447.39,1483.14,93.78,397.35,171.19,533.3,1041.48,149.29,1122.53,200.16,156.57999999999998,383.68,594.0,3236.91,1418.26,113.5,155.17,494.64,974.52,429.84,538.73,1388.37,179.1,447.22,237.07,161.64,216.76,234.6,126.14,1048.85,7354.62,334.53,524.88,467.51,538.55,469.48,371.56,1771.2,454.10999999999996,1441.42,905.5,11054.96,233.81,3594.31,2575.0,91.32000000000001,1134.28,3100.09,659.4599999999999,2001.8,1299.23,1262.2,13316.4,1131.56,10384.93,147.09,52.83,3610.96,979.26,492.36,1000.27,250.0,909.23,121.0,14758.220000000001,4139.46,62.43,267.03,1942.45,343.5,3000.2,398.84,412.01000000000005,440.0,825.92,148.44,2429.78,229.33,3995.23,1502.35,2007.44,1580.93,807.57,536.4,110.92,538.46,213.3,85.13000000000001,127.86,3546.71,292.71999999999997,4954.84,1693.26,575.63,436.06,90.12,437.23,217.2,4805.17,279.77,473.65000000000003,800.59,134.55,1400.44,173.16,186.01,758.29,1375.71,4165.52,650.4300000000001,2552.86,607.45,702.25,940.6700000000001,258.88,127.1,348.6,3679.9700000000003,682.9100000000001,725.11,455.3,913.6800000000001,478.53000000000003,388.58,199.8,1771.78,1406.59,324.57,240.68,761.74,6776.56,1297.8700000000001,48.480000000000004,216.39,1198.23,2920.16,104.76,1093.68,298.48,112.46000000000001,1591.45,195.15,10399.74,776.851,336.40000000000003,1553.18,1293.03,3709.56,301.03,588.13,1534.26,675.8,2870.2400000000002,1186.35,3285.31,243.55,724.76,223.36,425.32,12515.66,1887.2,664.0,813.0,612.01,447.64000000000004,657.35,816.0,646.3,337.74,877.4399999999999,922.53,560.67,748.5,30.0,1024.1000000000001,306.45,1600.86,309.8,138.14,386.43,2242.01,301.32,76.32000000000001,684.34,173.05,2657.13,2881.02,2446.6,323.69,3435.76,657.23,352.7,781.28,1333.68,1426.16,193.75,2993.1,254.1,239.76,136.8,191.04,6479.4,409.98,2736.46,309.65,696.68,1542.14,211.5,2293.62,143.1,1060.56,945.58,3364.2400000000002,133.25,1072.3600000000001,356.7,330.88,1118.81,150.3,5045.61,598.73,507.08,2222.56,203.1,218.25,415.25,5178.96,85.0,1120.88,294.12,162.3,1339.45,1205.1200000000001,4812.42,449.12,154.88,784.46,34.8,1094.59,196.88,974.04,149.31,44534.3,2465.48,2637.38,79.2,458.57,2364.25,532.96,714.42,205.25,253.04,583.75,1086.92,3279.97,315.06,621.8299999999999,56252.72,635.6800000000001,270.8,104.9,241.62,1047.11,475.28000000000003,345.46,2614.7400000000002,246.3,2328.9700000000003,4932.2,948.05,351.3,220.85,1612.69,965.61,610.01,2711.56,2207.4,884.14,699.08,1063.95,451.42,415.82000000000005,4206.39,5528.4800000000005,784.58,903.9,3734.9700000000003,515.77,1391.98,2218.62,1801.14,1303.9099999999999,1945.33,2100.6,1905.45,206.98,570.96,885.47,15.0,532.94,1654.31,1836.0900000000001,636.14,576.0,801.76,836.79,2233.75,954.09,137.37,391.98,33643.08,1048.49,355.56,1224.06,118.95000000000002,130.73999999999998,3711.77,389.27,238.85,160.71,110.8,2974.65,712.24,16387.57,297.0,1438.85,977.21,3165.36,832.88,68.84,1936.3200000000002,895.13,230.53,3812.64,149.64,354.09000000000003,360.93,4405.88,493.28,343.28000000000003,501.39000000000004,516.36,396.48,379.35,181.09,168.31,446.87,524.52,263.55,179.17,222.05,1388.88,56.25,351.11,363.88,5126.76,164.68,1567.69,967.45,191.94,1232.18,264.62,1528.09,123.1,334.23,639.89,167.5,336.03000000000003,369.5,127.08,207.15,426.63,2495.87,1107.46,416.86,145.35,404.58,6115.01,35.8,337.44,325.1,181.0,1708.24,955.24,364.72,1765.51,708.22,806.57,1659.3799999999999,4416.26,428.89,104.35,470.76,845.64,418.83,666.1,314.1,4199.85,307.82000000000005,3442.15,371.01,430.94,1054.73,1098.78,2398.86,3408.48,1475.02,2837.67,1142.42,168.12,1451.28,158.03,792.11,41.989999999999995,2797.57,427.07,1060.68,3089.97,12393.7,2735.37,615.39,101.4,1701.94,478.78,992.71,407.5,3362.71,1415.29,37130.6,662.38,705.39,1508.76,211.88,408.90000000000003,3786.2400000000002,851.01,628.28,719.81,251.24,439.65999999999997,236.09,934.62,81024.84,331.24,548.94,8816.4,437.7,758.92,855.02,471.78000000000003,1313.55,3166.4,1197.27,773.99,1340.7,256.44,1111.79,137.9,362.06,1511.95,783.9,134.8,664.85,2263.12,1459.8600000000001,1153.62,335.32,372.09,1521.87,852.15,326.24,584.3199999999999,122.39999999999999,2234.73,79.2,1352.0,217.16,2806.9,1317.62,436.18,981.51,1121.39,315.06,817.86,17.0,1078.23,320.62,185.04999999999998,2005.63,731.9,1290.7,1842.14,1429.64,302.36,336.96,108.38,3204.1600000000003,842.5,611.88,1337.48,195.73999999999998,161.38,135.75000000000003,1667.97,612.78,232.21,423.36,1309.14,867.11,684.4200000000001,307.78,249.0,289.35,6287.77,656.25,1880.22,3506.54,14589.04,618.09,517.55,709.38,635.41,725.18,620.4,535.34,2424.94,175.2,3799.4900000000002,734.13,375.0,76.32000000000001,280.52,2053.02,1829.04,1824.23,3122.04,656.69,348.2,1025.44,5575.56,37.4,856.6,822.48,3787.6,1822.97,1885.05,73.2,1140.21,1418.32,1009.5500000000001,1037.59,331.95,197.9,215.83,10254.18,305.54,6617.65,338.71000000000004,1158.79,529.41,4006.94,6911.4400000000005,981.86,215.48,215.08,5180.52,314.45,400.68100000000004,1080.6200000000001,1863.47,365.27,592.9,405.71,761.38,537.0600000000001,394.38,664.26,2262.62,21086.3,547.02,690.34,159.0,1062.75,242.35,914.9300000000001,304.25,3084.68,864.86,846.72,1295.3,1096.32,255.12,314.22,1010.6,542.03,990.88,536.6800000000001,867.31,432.2,414.2,3718.8,2607.87,3603.21,409.1,1522.75,1413.66,114.56,152.94,1800.07,389.44,3683.86,2619.91,752.4300000000001,46.95,5203.51,1035.45,746.83,5447.0,861.89,667.65,1141.24,1429.24,411.7,357.95,559.87,810.6000000000001,566.38,1509.58,2062.06,168.3,1570.81,823.97,142.5,302.25,2248.9900000000002,1328.55,301.9,598.2,233.22,5360.63,361.21999999999997,632.27,2560.0,706.57,616.26,274.15000000000003,226.37,2938.91,1341.65,328.15,404.40000000000003,1038.46,373.65000000000003,326.75,207.50000000000003,428.68,594.24,3110.96,3844.22,251.91,1593.2,26626.8,151.05,214.79999999999998,109.95,549.07,1971.87,322.41,370.47999999999996,101.10000000000001,575.41,887.65,1469.45,53.5,1116.47,153.9,494.44,6675.71,395.8,211.77,658.88,2027.5,1750.92,3512.53,896.66,734.77,109.36000000000001,707.04,1540.42,327.3,804.49,497.43,1553.66,1320.56,367.93,473.03000000000003,987.01,676.2,362.95,2157.4,1780.59,668.36,584.5,555.89,317.2,94.36,1382.07,221.19,3046.21,1555.34,1486.9,1705.8,408.57,303.93,4098.32,299.6,177.5,443.05,167.25,163.07,2126.93,2028.88,214.65,151.83,262.2,126.25,210.35,1051.4,675.27,972.23,34684.4,346.12,133.56,302.7,1908.25,241.06,284.55,300.85,642.81,287.4,184.26,1522.25,798.35,3640.67,381.2,616.79,654.67,230.51,168472.5,259.01,188.89000000000001,707.69,311.92,266.97,6.9,1841.18,2158.37,208.36,3482.7400000000002,814.72,151.42,136.0,1422.4,1314.68,1603.46,74.9,650.43,762.39,223.95000000000002,316.11,1871.5,544.3,2494.46,331.0,300.83,769.29,220.62,139.35,404.3,363.65,498.8,731.5,1351.63,826.53,684.41,1599.52,2965.69,100.97,365.45,400.86,1431.93,484.38,777.6,90.30000000000001,363.7,248.1,950.26,874.59,1627.13,101.69999999999999,162.7,484.32,215.07999999999998,1046.57,9418.470000000001,13027.45,290.36,228.06,244.41,455.25,1244.59,6748.8,1095.56,593.75,548.97,1388.81,119.62,339.3,787.15,4154.64,2298.97,922.12,379.73,5719.82,837.1,285.89,3313.79,281.85,8338.49,841.41,511.12,1077.74,173.7,614.66,865.6,124.2,3738.4,1421.69,1009.6,663.61,451.44,105.84,313.62,233.45,936.08,463.95,225.15,459.24,213.5,4113.68,330.03,181.09,360.16,250.15,90.04,145.04999999999998,813.52,244.79999999999998,528.08,482.47,3347.71,5493.46,75.66,129.49,1187.66,618.59,506.19,500.42,151.85,2647.59,226.21,178.96,813.48,129.45,810.5699999999999,333.08,4413.1,322.8,2188.05,417.73,2883.1,217.9,1154.47,1680.72,1257.51,231.10000000000002,688.33,487.51,833.78,214.06,290.65999999999997,518.42,6773.97,1212.66,601.27,3794.52,8625.8,933.62,123.24,39.12,1267.6499999999999,135.39999999999998,118.98,570.13,306.71999999999997,1374.8700000000001,4095.9,1692.27,8134.9400000000005,319.61,1592.1200000000001,3109.99,129.75,183.7,1770.34,1028.0,66653.56,324.24,3062.83,1260.86,422.59999999999997,225.57999999999998,1276.0,482.01,657.9000000000001,112.75,1998.0,5076.55,5398.3,14034.99,531.35,656.63,3029.87,2483.04,1651.03,3645.43,6923.13,1161.53,301.71999999999997,901.2,3858.38,623.75,1790.42,155.24,292.47,4730.81,589.15,781.02,1382.02,272.82,1054.67,7239.92,743.11,603.75,650.51,2300.56,417.59999999999997,3.75,323.0,464.9,2238.09,1304.76,7194.3,6697.66,836.06,1515.9,623.93,1764.72,207.5,223.92000000000002,2002.4,1496.83,239.4,106.83000000000001,369.34000000000003,789.79,316.62,1501.38,611.85,2799.25,34.0,1145.6,5580.6,478.09000000000003,380.39,770.1,2246.81,171.59,661.52,1695.66,388.28,226.35,245.94,10629.720000000001,425.19,311.25,2279.9,107.6,597.48,80.8,1545.6200000000001,1721.78,110.38000000000001,243.84,1222.71,414.88,305.62,1201.49,1619.73,332.3,536.99,460.59,801.49,1121.59,288.42,914.69,309.54,547.07,479.35,1692.98,6509.1,417.06,1604.75,3349.57,497.61,358.38,460.64,775.1800000000001,341.7,128.5,197.22,325.91,199.15,1106.53,413.46,180.85,251.87,3170.98,588.85,16594.35,1869.82,1264.19,10196.57,214.32,193.44,281.42,124.57,332.41,342.45,144.91000000000003,328.4,35.400000000000006,375.69000000000005,747.81,173.76,502.8,207.73999999999998,825.42,2812.34,680.02,7123.62,2095.53,853.72,13.3,1519.08,432.0,705.12,276.73,429.84000000000003,471.51,194.88,1578.67,809.7,525.54,145.93,219.14,289.78,508.81,1281.56,887.11,1706.88,373.24,3754.27,3102.43,579.77,981.65,379.14,1510.06,2575.38,113.44,208.46,621.6800000000001,576.26,391.52,1068.82,2596.45,169.79,7247.61,846.75,230.25,543.05,2847.6,1295.39,380.55,4604.22,161.94,563.23,950.9300000000001,262.68,2736.38,3049.88,1920.59,816.73,4345.5,406.48,435.02,1286.27,1178.56,1277.75,167.61,20.8,2085.08,518.67,308.74,416.64,117.35000000000001,507.05,234.17,110.55000000000001,201.19,2154.97,319.02,439.43,650.41,357.21,251.51999999999998,344.33,1852.0,1078.96,384.06,1931.25,4481.35,5464.12,1873.2,1625.05,126.12,1133.25,179.0,1614.31,1456.96,702.0,295.0,484.82,3989.57,1493.73,1412.94,781.78,889.9300000000001,195.36,270.9,586.33,1842.56,8694.26,920.1,1272.61,71.0,95.85,357.77,154.82999999999998,890.29,716.0,146.87,380.35,1030.14,745.52,433.53000000000003,1267.32,112.4,449.73,1081.57,1044.3799999999999,1735.18,948.48,339.44,642.02,1100.9,925.35,5659.9800000000005,3228.84,247.14000000000001,413.75,498.48,1356.33,1179.89,3095.04,234.24,5232.2300000000005,538.37,1461.14,859.35,4552.14,2709.7000000000003,312.14,2429.03,1446.09,834.12,841.0799999999999,378.2,118.80000000000001,287.62,290.16,2003.85,1405.78,2949.75,1566.65,2050.08,1991.01,2043.95,3827.76,1777.78,302.0,1324.16,1022.13,954.42,971.74,1621.73,25.5,665.78,10815.43,885.04,163.29999999999998,248.61,808.62,837.5,116.19999999999999,157.02,606.91,307.46,138.32,345.29999999999995,298.89,259.35,1004.75,157.09,2463.17,4892.240000000001,425.0,1139.73,380.5,10668.47,465.32,579.0,984.57,749.78,1714.59,124.88,1689.5,213.78,329.34,251.70000000000002,319.0,1266.97,1538.88,3518.03,1715.46,293.1,2467.35,158.68,206.34,835.78,224.91,317.76,3766.6,59.9,1443.69,306.13,711.79,796.03,239.92000000000002,3347.31,144.0,203.95,2474.23,384.40000000000003,444.74,2095.13,1699.3000000000002,262.62,1013.01,692.22,342.63,3563.85,1564.56,384.08,204.24,2317.2200000000003,226.85,2781.23,1069.1200000000001,113.5,1960.72,114.23,3198.25,335.13,354.15,426.79,393.49,939.32,1906.09,318.76,3638.41,3174.32,421.52,190.88,149.89000000000001,550.06,916.13,314.69,3744.65,382.5,1135.04,8676.85,954.9,171.45,282.19,318.65,384.52,283.28000000000003,353.86,178.26,272.44,298.41,240.0,603.37,1253.3600000000001,63.440000000000005,562.9,310.64,317.62,763.64,2148.63,111.97999999999999,1065.3500000000001,246.04,187.82999999999998,1703.41,1652.58,153.92,1064.11,1419.73,944.41,525.24,550.8000000000001,1875.1100000000001,556.95,131.78,498.42,669.11,197.63,1135.63,250.04,8631.31,82.75,1384.85,644.3,2328.84,2527.92,6292.26,2600.34,1200.6200000000001,700.86,921.07,990.23,96.8,523.11,363.9,175.2,494.25,307.02,2027.8700000000001,6643.93,243.36,12353.29,781.36,193.64,160.57,537.74,2676.56,228.96,1159.52,110.75,1286.07,587.15,1740.0,1393.06,178.22,388.14,365.85,127.86,585.79,488.2,312.23,4481.18,4801.56,168.4,1912.67,446.18,423.89,1342.68,646.92,495.77,400.1,203.2,4100.92,404.66,20275.61,65.4,199.29,336.4,261.11,2686.42,784.11,1259.56,31833.68,508.8,457.91,203.86999999999998,7330.8,696.41,653.38,2129.96,2633.85,281.62,31906.82,1031.41,2200.42,32.65,771.85,1214.72,778.94,1258.06,778.0,507.84,6893.42,463.46000000000004,4226.57,598.83,1979.37,698.41,759.17,5037.26,100.8,17256.85,524.9200000000001,265.76,403.3,365.76,303.15999999999997,2373.82,216.29999999999998,388.45000000000005,186.42000000000002,2248.56,534.24,2940.04,120.9,541.53,2520.86,194550.79,1721.4,486.71999999999997,517.53,131.7,249.86,1737.7,316.5,657.3,622.4300000000001,757.46,675.69,1896.41,289.96000000000004,763.28,137.0,1870.97,1125.07,710.29,194.37,511.82,1255.59,414.04,396.87,376.64,2092.32,3558.87,374.57,497.56,271.05,272.22,622.88,1138.0,288.6,689.1,558.96,2997.0299999999997,1145.84,302.2,605.58,387.31,6115.14,308.48,91062.38,2924.9900000000002,513.2,208.65,639.02,768.08,153.94,1844.02,546.81,723.2099999999999,1070.71,652.74,145.0,422.70000000000005,1195.8999999999999,939.37,3628.5,2385.0,296.7,223.36,164.4,76.5,897.62,98.42,578.9,170.75,645.96,103.3,148.86,267.16,306.84,930.41,1487.6,1952.45,483.26,157.9,541.46,854.95,167.62,1122.38,454.01,901.21,4331.48,344.14,1498.51,226.75000000000003,380.6,185.65,3622.68,143.45999999999998,448.90000000000003,215.72,11045.04,175.27,1242.3,1133.07,1240.2,2404.17,1479.22,2225.9700000000003,3927.34,993.18,388.79,2827.93,2044.3700000000001,161.67000000000002,116.00999999999999,5102.97,394.72,309.36,193.42,1112.22,3984.22,2048.45,4559.150000000001,390.07,329.6,571.1999999999999,971.58,218.52,81.44,1379.9,527.0500000000001,843.48,2047.0,75.75,1814.12,503.59999999999997,528.33,1324.84,2361.9700000000003,285.56,547.0600000000001,108.5,621.66,712.29,101.55,2895.64,1008.39,133.06,1797.5,868.49,166.08,3945.0,4867.72,1207.56,117.55,2638.94,1674.69,595.42,2999.46,196.0,1802.91,604.64,728.16,2055.51,347.75,3406.7200000000003,205.7,1572.71,3178.17,1629.12,551.04,20374.28,1387.68,16363.23,298.11,1992.1100000000001,184.4,2474.33,239.41,3191.53,5739.46,4757.95,290.40000000000003,740.9399999999999,200.47,283.12,765.34,2285.71,338.95,154.95,2534.64,417.95,1824.37,798.74,885.19,1823.52,10504.49,152.4,267.08,137.45,385.1,522.91,153.0,326.4,5655.99,139.35,5396.04,1195.94,2424.04,3276.4000000000005,1033.0,3439.08,1060.25,2876.01,5298.4800000000005,1240.11,303.97,692.19,700.63,13110.02,377.44,168.24,1879.05,2791.35,355.11,2322.4,110.25,71.4,674.52,1797.57,80.64,1772.26,5605.29,3456.7000000000003,834.99,287.59,712.78,15.0,818.8199999999999,371.88,271.2,2273.1800000000003,3997.98,1143.27,245.81,182.77,1225.41,56.4,665.86,658.57,188.02,283.47,131.94,278.74,1865.19,1117.9,225.9,1965.55,106.1,323.04,350.39,697.9,780.43,3055.93,1199.01,1285.04,512.31,546.04,5411.91,7837.7300000000005,732.16,1770.8799999999999,36.56,387.68,3704.87,298.4,1995.46,1820.09,889.24,398.7,35.400000000000006,155.37,350.64,110.21000000000001,1593.38,2779.3,338.8,40991.57,205.48,51.559999999999995,2033.1,901.1999999999999,605.8000000000001,5391.21,114.34,311.26,208.97,1418.03,26879.04,5155.66,148.21,252.8,2100.8,330.9,3160.0,597.5,10526.32,329.65,1197.1000000000001,428.18,1894.35,155.9,1859.16,683.46,237.61,379.45,178.51999999999998,458.92,133.35000000000002,671.77,717.45,190.19,899.61,111.35,726.05,203.87,602.09,203.85999999999999,244.1,112.25,1119.81,98.0,256.32,566.6,152.06,155.8,112.19999999999999,110.38,191.67,800.24,72.9,243.28,366.23,311.01,411.6,336.43,341.28,1304.04,4204.1,826.52,207.50000000000003,2962.5,244.08,397.29,212.54,843.0,1740.48,408.36,1331.57,704.25,145.79,389.84,4301.22,99.14,4106.4400000000005,304.56,77.50000000000001,149.57999999999998,176.68,358.56000000000006,58510.48,482.2,1008.5400000000001,2332.72,557.3,12.75,111.68,508.4599999999999,73.78,1296.44,102.83,471.7,2622.57,1098.43,123.07,277.35,228.2,582.59,136.04,337.04,740.79,4488.81,353.19,288.14,300.91999999999996,757.71,811.45,152.68,634.95,20.8,198.57,201.12,630.84,93.35,678.49,76.1,1970.6699999999998,382.06,417.23,169.47,249.72,444.68,2116.19,257.34,174.8,102.78999999999999,187.29,166.42,120.03,1483.56,523.0,122.14,38.45,668.11,389.78,115.31,230.64999999999998,73.5,97.97,422.88,730.4,405.62,70.02,357.20000000000005,4183.39,165.04999999999998,559.51,2088.6,189.4,172.29000000000002,74.4,300.02,6784.1900000000005,363.65,170.16,306.46,2119.41,720.52,814.0,2392.83,318.0,396.33,101.69999999999999,2036.67,453.0,247.44,3877.5200000000004,489.6,2611.75,2633.0099999999998,336.13,3651.97,1231.5,343.45,703.37,90.47999999999999,689.95,101.34,4055.7199999999993,167.67000000000002,9068.26,2106.52,3017.3,580.0500000000001,911.15,2697.8,168.31,223.65,259657.3,754.64,113.48000000000002,430.7,271.0,8052.97,236.3,352.69,76.32000000000001,220.1,1418.03,320.72,5653.82,181.12,111.15,673.1,1826.21,589.4399999999999,1142.99,206.82999999999998,348.73,112.55000000000001,1059.39,931.4999999999999,681.9100000000001,784.33,152.65,8438.34,1019.52,1000.16,2888.75,2861.55,160.35000000000002,179.33999999999997,612.0799999999999,566.58,653.35,399.19,371.62,734.94,453.4,530.15,638.0600000000001,1618.69,399.65000000000003,302.46000000000004,1384.8600000000001,1169.94,202.65,980.31,1231.31,7561.68,2106.84,104.0,476.35,1341.42,1590.81,1793.17,1843.75,382.8,632.07,49.8,304.25,2001.04,1090.24,284.46000000000004,207.79999999999998,957.97,243.76,973.8399999999999,689.13,5425.56,163.8,1396.99,160.42000000000002,1993.7,517.36,139.10000000000002,2621.38,600.07,248.42,232.48000000000002,299.34000000000003,481.75,621.75,662.08,2069.77,305.28000000000003,1041.61,443.0,6484.54,158.95000000000002,5509.12,5228.05,93.75,779.9,7276.900000000001,2810.2000000000003,2083.27,592.97,440.0,1796.48,882.24,987.1,1561.6100000000001,422.58,2073.09,2232.4900000000002,2567.06,596.1,804.02,95.34,349.27,4314.72,526.67,103.3,2337.63,2338.6000000000004,2643.2000000000003,324.24,149.48,1213.1599999999999,801.51,25.5,168.6,283.15,3078.58,204.0,175.92,335.86,110.38,173.9,180.60000000000002,80.82,178.05,2094.88,1837.28],\"type\":\"scatter3d\"}],                        {\"template\":{\"data\":{\"histogram2dcontour\":[{\"type\":\"histogram2dcontour\",\"colorbar\":{\"outlinewidth\":0,\"ticks\":\"\"},\"colorscale\":[[0.0,\"#0d0887\"],[0.1111111111111111,\"#46039f\"],[0.2222222222222222,\"#7201a8\"],[0.3333333333333333,\"#9c179e\"],[0.4444444444444444,\"#bd3786\"],[0.5555555555555556,\"#d8576b\"],[0.6666666666666666,\"#ed7953\"],[0.7777777777777778,\"#fb9f3a\"],[0.8888888888888888,\"#fdca26\"],[1.0,\"#f0f921\"]]}],\"choropleth\":[{\"type\":\"choropleth\",\"colorbar\":{\"outlinewidth\":0,\"ticks\":\"\"}}],\"histogram2d\":[{\"type\":\"histogram2d\",\"colorbar\":{\"outlinewidth\":0,\"ticks\":\"\"},\"colorscale\":[[0.0,\"#0d0887\"],[0.1111111111111111,\"#46039f\"],[0.2222222222222222,\"#7201a8\"],[0.3333333333333333,\"#9c179e\"],[0.4444444444444444,\"#bd3786\"],[0.5555555555555556,\"#d8576b\"],[0.6666666666666666,\"#ed7953\"],[0.7777777777777778,\"#fb9f3a\"],[0.8888888888888888,\"#fdca26\"],[1.0,\"#f0f921\"]]}],\"heatmap\":[{\"type\":\"heatmap\",\"colorbar\":{\"outlinewidth\":0,\"ticks\":\"\"},\"colorscale\":[[0.0,\"#0d0887\"],[0.1111111111111111,\"#46039f\"],[0.2222222222222222,\"#7201a8\"],[0.3333333333333333,\"#9c179e\"],[0.4444444444444444,\"#bd3786\"],[0.5555555555555556,\"#d8576b\"],[0.6666666666666666,\"#ed7953\"],[0.7777777777777778,\"#fb9f3a\"],[0.8888888888888888,\"#fdca26\"],[1.0,\"#f0f921\"]]}],\"heatmapgl\":[{\"type\":\"heatmapgl\",\"colorbar\":{\"outlinewidth\":0,\"ticks\":\"\"},\"colorscale\":[[0.0,\"#0d0887\"],[0.1111111111111111,\"#46039f\"],[0.2222222222222222,\"#7201a8\"],[0.3333333333333333,\"#9c179e\"],[0.4444444444444444,\"#bd3786\"],[0.5555555555555556,\"#d8576b\"],[0.6666666666666666,\"#ed7953\"],[0.7777777777777778,\"#fb9f3a\"],[0.8888888888888888,\"#fdca26\"],[1.0,\"#f0f921\"]]}],\"contourcarpet\":[{\"type\":\"contourcarpet\",\"colorbar\":{\"outlinewidth\":0,\"ticks\":\"\"}}],\"contour\":[{\"type\":\"contour\",\"colorbar\":{\"outlinewidth\":0,\"ticks\":\"\"},\"colorscale\":[[0.0,\"#0d0887\"],[0.1111111111111111,\"#46039f\"],[0.2222222222222222,\"#7201a8\"],[0.3333333333333333,\"#9c179e\"],[0.4444444444444444,\"#bd3786\"],[0.5555555555555556,\"#d8576b\"],[0.6666666666666666,\"#ed7953\"],[0.7777777777777778,\"#fb9f3a\"],[0.8888888888888888,\"#fdca26\"],[1.0,\"#f0f921\"]]}],\"surface\":[{\"type\":\"surface\",\"colorbar\":{\"outlinewidth\":0,\"ticks\":\"\"},\"colorscale\":[[0.0,\"#0d0887\"],[0.1111111111111111,\"#46039f\"],[0.2222222222222222,\"#7201a8\"],[0.3333333333333333,\"#9c179e\"],[0.4444444444444444,\"#bd3786\"],[0.5555555555555556,\"#d8576b\"],[0.6666666666666666,\"#ed7953\"],[0.7777777777777778,\"#fb9f3a\"],[0.8888888888888888,\"#fdca26\"],[1.0,\"#f0f921\"]]}],\"mesh3d\":[{\"type\":\"mesh3d\",\"colorbar\":{\"outlinewidth\":0,\"ticks\":\"\"}}],\"scatter\":[{\"fillpattern\":{\"fillmode\":\"overlay\",\"size\":10,\"solidity\":0.2},\"type\":\"scatter\"}],\"parcoords\":[{\"type\":\"parcoords\",\"line\":{\"colorbar\":{\"outlinewidth\":0,\"ticks\":\"\"}}}],\"scatterpolargl\":[{\"type\":\"scatterpolargl\",\"marker\":{\"colorbar\":{\"outlinewidth\":0,\"ticks\":\"\"}}}],\"bar\":[{\"error_x\":{\"color\":\"#2a3f5f\"},\"error_y\":{\"color\":\"#2a3f5f\"},\"marker\":{\"line\":{\"color\":\"#E5ECF6\",\"width\":0.5},\"pattern\":{\"fillmode\":\"overlay\",\"size\":10,\"solidity\":0.2}},\"type\":\"bar\"}],\"scattergeo\":[{\"type\":\"scattergeo\",\"marker\":{\"colorbar\":{\"outlinewidth\":0,\"ticks\":\"\"}}}],\"scatterpolar\":[{\"type\":\"scatterpolar\",\"marker\":{\"colorbar\":{\"outlinewidth\":0,\"ticks\":\"\"}}}],\"histogram\":[{\"marker\":{\"pattern\":{\"fillmode\":\"overlay\",\"size\":10,\"solidity\":0.2}},\"type\":\"histogram\"}],\"scattergl\":[{\"type\":\"scattergl\",\"marker\":{\"colorbar\":{\"outlinewidth\":0,\"ticks\":\"\"}}}],\"scatter3d\":[{\"type\":\"scatter3d\",\"line\":{\"colorbar\":{\"outlinewidth\":0,\"ticks\":\"\"}},\"marker\":{\"colorbar\":{\"outlinewidth\":0,\"ticks\":\"\"}}}],\"scattermapbox\":[{\"type\":\"scattermapbox\",\"marker\":{\"colorbar\":{\"outlinewidth\":0,\"ticks\":\"\"}}}],\"scatterternary\":[{\"type\":\"scatterternary\",\"marker\":{\"colorbar\":{\"outlinewidth\":0,\"ticks\":\"\"}}}],\"scattercarpet\":[{\"type\":\"scattercarpet\",\"marker\":{\"colorbar\":{\"outlinewidth\":0,\"ticks\":\"\"}}}],\"carpet\":[{\"aaxis\":{\"endlinecolor\":\"#2a3f5f\",\"gridcolor\":\"white\",\"linecolor\":\"white\",\"minorgridcolor\":\"white\",\"startlinecolor\":\"#2a3f5f\"},\"baxis\":{\"endlinecolor\":\"#2a3f5f\",\"gridcolor\":\"white\",\"linecolor\":\"white\",\"minorgridcolor\":\"white\",\"startlinecolor\":\"#2a3f5f\"},\"type\":\"carpet\"}],\"table\":[{\"cells\":{\"fill\":{\"color\":\"#EBF0F8\"},\"line\":{\"color\":\"white\"}},\"header\":{\"fill\":{\"color\":\"#C8D4E3\"},\"line\":{\"color\":\"white\"}},\"type\":\"table\"}],\"barpolar\":[{\"marker\":{\"line\":{\"color\":\"#E5ECF6\",\"width\":0.5},\"pattern\":{\"fillmode\":\"overlay\",\"size\":10,\"solidity\":0.2}},\"type\":\"barpolar\"}],\"pie\":[{\"automargin\":true,\"type\":\"pie\"}]},\"layout\":{\"autotypenumbers\":\"strict\",\"colorway\":[\"#636efa\",\"#EF553B\",\"#00cc96\",\"#ab63fa\",\"#FFA15A\",\"#19d3f3\",\"#FF6692\",\"#B6E880\",\"#FF97FF\",\"#FECB52\"],\"font\":{\"color\":\"#2a3f5f\"},\"hovermode\":\"closest\",\"hoverlabel\":{\"align\":\"left\"},\"paper_bgcolor\":\"white\",\"plot_bgcolor\":\"#E5ECF6\",\"polar\":{\"bgcolor\":\"#E5ECF6\",\"angularaxis\":{\"gridcolor\":\"white\",\"linecolor\":\"white\",\"ticks\":\"\"},\"radialaxis\":{\"gridcolor\":\"white\",\"linecolor\":\"white\",\"ticks\":\"\"}},\"ternary\":{\"bgcolor\":\"#E5ECF6\",\"aaxis\":{\"gridcolor\":\"white\",\"linecolor\":\"white\",\"ticks\":\"\"},\"baxis\":{\"gridcolor\":\"white\",\"linecolor\":\"white\",\"ticks\":\"\"},\"caxis\":{\"gridcolor\":\"white\",\"linecolor\":\"white\",\"ticks\":\"\"}},\"coloraxis\":{\"colorbar\":{\"outlinewidth\":0,\"ticks\":\"\"}},\"colorscale\":{\"sequential\":[[0.0,\"#0d0887\"],[0.1111111111111111,\"#46039f\"],[0.2222222222222222,\"#7201a8\"],[0.3333333333333333,\"#9c179e\"],[0.4444444444444444,\"#bd3786\"],[0.5555555555555556,\"#d8576b\"],[0.6666666666666666,\"#ed7953\"],[0.7777777777777778,\"#fb9f3a\"],[0.8888888888888888,\"#fdca26\"],[1.0,\"#f0f921\"]],\"sequentialminus\":[[0.0,\"#0d0887\"],[0.1111111111111111,\"#46039f\"],[0.2222222222222222,\"#7201a8\"],[0.3333333333333333,\"#9c179e\"],[0.4444444444444444,\"#bd3786\"],[0.5555555555555556,\"#d8576b\"],[0.6666666666666666,\"#ed7953\"],[0.7777777777777778,\"#fb9f3a\"],[0.8888888888888888,\"#fdca26\"],[1.0,\"#f0f921\"]],\"diverging\":[[0,\"#8e0152\"],[0.1,\"#c51b7d\"],[0.2,\"#de77ae\"],[0.3,\"#f1b6da\"],[0.4,\"#fde0ef\"],[0.5,\"#f7f7f7\"],[0.6,\"#e6f5d0\"],[0.7,\"#b8e186\"],[0.8,\"#7fbc41\"],[0.9,\"#4d9221\"],[1,\"#276419\"]]},\"xaxis\":{\"gridcolor\":\"white\",\"linecolor\":\"white\",\"ticks\":\"\",\"title\":{\"standoff\":15},\"zerolinecolor\":\"white\",\"automargin\":true,\"zerolinewidth\":2},\"yaxis\":{\"gridcolor\":\"white\",\"linecolor\":\"white\",\"ticks\":\"\",\"title\":{\"standoff\":15},\"zerolinecolor\":\"white\",\"automargin\":true,\"zerolinewidth\":2},\"scene\":{\"xaxis\":{\"backgroundcolor\":\"#E5ECF6\",\"gridcolor\":\"white\",\"linecolor\":\"white\",\"showbackground\":true,\"ticks\":\"\",\"zerolinecolor\":\"white\",\"gridwidth\":2},\"yaxis\":{\"backgroundcolor\":\"#E5ECF6\",\"gridcolor\":\"white\",\"linecolor\":\"white\",\"showbackground\":true,\"ticks\":\"\",\"zerolinecolor\":\"white\",\"gridwidth\":2},\"zaxis\":{\"backgroundcolor\":\"#E5ECF6\",\"gridcolor\":\"white\",\"linecolor\":\"white\",\"showbackground\":true,\"ticks\":\"\",\"zerolinecolor\":\"white\",\"gridwidth\":2}},\"shapedefaults\":{\"line\":{\"color\":\"#2a3f5f\"}},\"annotationdefaults\":{\"arrowcolor\":\"#2a3f5f\",\"arrowhead\":0,\"arrowwidth\":1},\"geo\":{\"bgcolor\":\"white\",\"landcolor\":\"#E5ECF6\",\"subunitcolor\":\"white\",\"showland\":true,\"showlakes\":true,\"lakecolor\":\"white\"},\"title\":{\"x\":0.05},\"mapbox\":{\"style\":\"light\"}}},\"scene\":{\"domain\":{\"x\":[0.0,1.0],\"y\":[0.0,1.0]},\"xaxis\":{\"title\":{\"text\":\"Recency\"}},\"yaxis\":{\"title\":{\"text\":\"Frequency\"}},\"zaxis\":{\"title\":{\"text\":\"Monetary\"}}},\"coloraxis\":{\"colorbar\":{\"title\":{\"text\":\"Cluster\"}},\"colorscale\":[[0.0,\"#440154\"],[0.1111111111111111,\"#482878\"],[0.2222222222222222,\"#3e4989\"],[0.3333333333333333,\"#31688e\"],[0.4444444444444444,\"#26828e\"],[0.5555555555555556,\"#1f9e89\"],[0.6666666666666666,\"#35b779\"],[0.7777777777777778,\"#6ece58\"],[0.8888888888888888,\"#b5de2b\"],[1.0,\"#fde725\"]]},\"legend\":{\"tracegroupgap\":0},\"title\":{\"text\":\"3D Customer Segmentation (RFM Clusters)\"}},                        {\"responsive\": true}                    ).then(function(){\n",
              "                            \n",
              "var gd = document.getElementById('442e4a06-f48f-4d58-b556-47d588b50647');\n",
              "var x = new MutationObserver(function (mutations, observer) {{\n",
              "        var display = window.getComputedStyle(gd).display;\n",
              "        if (!display || display === 'none') {{\n",
              "            console.log([gd, 'removed!']);\n",
              "            Plotly.purge(gd);\n",
              "            observer.disconnect();\n",
              "        }}\n",
              "}});\n",
              "\n",
              "// Listen for the removal of the full notebook cells\n",
              "var notebookContainer = gd.closest('#notebook-container');\n",
              "if (notebookContainer) {{\n",
              "    x.observe(notebookContainer, {childList: true});\n",
              "}}\n",
              "\n",
              "// Listen for the clearing of the current output cell\n",
              "var outputEl = gd.closest('.output');\n",
              "if (outputEl) {{\n",
              "    x.observe(outputEl, {childList: true});\n",
              "}}\n",
              "\n",
              "                        })                };                            </script>        </div>\n",
              "</body>\n",
              "</html>"
            ]
          },
          "metadata": {}
        }
      ]
    },
    {
      "cell_type": "code",
      "source": [
        "# Ambil hanya kolom RFM\n",
        "rfm_mean = rfm.groupby('Cluster')[['Recency', 'Frequency', 'Monetary']].mean().round(1)\n",
        "\n",
        "# Normalisasi nilai untuk heatmap\n",
        "rfm_norm = (rfm_mean - rfm_mean.min()) / (rfm_mean.max() - rfm_mean.min())\n",
        "\n",
        "plt.figure(figsize=(6,4))\n",
        "sns.heatmap(rfm_norm, annot=True, cmap=\"YlGnBu\")\n",
        "plt.title('RFM Heatmap per Cluster')\n",
        "plt.show()"
      ],
      "metadata": {
        "colab": {
          "base_uri": "https://localhost:8080/",
          "height": 391
        },
        "id": "dy_XQI9-uxKw",
        "outputId": "dfd07e27-9dc7-4629-eda7-4a538e40d50d"
      },
      "execution_count": null,
      "outputs": [
        {
          "output_type": "display_data",
          "data": {
            "text/plain": [
              "<Figure size 600x400 with 2 Axes>"
            ],
            "image/png": "[encoded data removed]"
          },
          "metadata": {}
        }
      ]
    },
    {
      "cell_type": "code",
      "source": [
        "# Sort cluster berdasarkan Monetary untuk estimasi ranking\n",
        "cluster_labels = rfm_mean.sort_values(by='Monetary', ascending=False).index\n",
        "for i, cl in enumerate(cluster_labels):\n",
        "    print(f\"Cluster {cl}: Rank {i+1}\")"
      ],
      "metadata": {
        "colab": {
          "base_uri": "https://localhost:8080/"
        },
        "id": "219X9p11u9LS",
        "outputId": "823bcd0b-6019-4346-f848-fe87ecbd8a5e"
      },
      "execution_count": null,
      "outputs": [
        {
          "output_type": "stream",
          "name": "stdout",
          "text": [
            "Cluster 2: Rank 1\n",
            "Cluster 1: Rank 2\n",
            "Cluster 0: Rank 3\n"
          ]
        }
      ]
    },
    {
      "cell_type": "code",
      "source": [],
      "metadata": {
        "id": "hq3m0Jyz4z27"
      },
      "execution_count": null,
      "outputs": []
    }
  ]
}